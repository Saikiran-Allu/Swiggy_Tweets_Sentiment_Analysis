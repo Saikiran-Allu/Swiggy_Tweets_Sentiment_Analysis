{
 "cells": [
  {
   "cell_type": "code",
   "execution_count": 1,
   "id": "307f338c",
   "metadata": {},
   "outputs": [
    {
     "name": "stderr",
     "output_type": "stream",
     "text": [
      "<frozen importlib._bootstrap>:228: RuntimeWarning: scipy._lib.messagestream.MessageStream size changed, may indicate binary incompatibility. Expected 56 from C header, got 64 from PyObject\n"
     ]
    }
   ],
   "source": [
    "import numpy as np\n",
    "import pandas as pd\n",
    "import matplotlib.pyplot as plt\n",
    "import seaborn as sns\n",
    "from sklearn.feature_extraction.text import CountVectorizer\n",
    "import nltk\n",
    "import re\n",
    "from nltk.corpus import stopwords\n",
    "from nltk.stem import WordNetLemmatizer"
   ]
  },
  {
   "cell_type": "code",
   "execution_count": 2,
   "id": "f662d9c4",
   "metadata": {},
   "outputs": [
    {
     "name": "stderr",
     "output_type": "stream",
     "text": [
      "[nltk_data] Downloading package wordnet to\n",
      "[nltk_data]     C:\\Users\\prana\\AppData\\Roaming\\nltk_data...\n",
      "[nltk_data]   Package wordnet is already up-to-date!\n"
     ]
    },
    {
     "data": {
      "text/plain": [
       "True"
      ]
     },
     "execution_count": 2,
     "metadata": {},
     "output_type": "execute_result"
    }
   ],
   "source": [
    "import nltk\n",
    "nltk.download('wordnet')"
   ]
  },
  {
   "cell_type": "code",
   "execution_count": 3,
   "id": "a94266ca",
   "metadata": {},
   "outputs": [],
   "source": [
    "from tensorflow.keras.preprocessing.text import Tokenizer\n",
    "from tensorflow.keras.preprocessing import sequence"
   ]
  },
  {
   "cell_type": "code",
   "execution_count": 4,
   "id": "253a4bf3",
   "metadata": {},
   "outputs": [],
   "source": [
    "from tqdm import tqdm\n",
    "tqdm.pandas()"
   ]
  },
  {
   "cell_type": "code",
   "execution_count": 5,
   "id": "ca3c81f0",
   "metadata": {},
   "outputs": [],
   "source": [
    "df=pd.read_csv('C:/Users/prana/Swiggy Dataset - Sheet1.csv', encoding='latin-1')"
   ]
  },
  {
   "cell_type": "code",
   "execution_count": 6,
   "id": "397aa568",
   "metadata": {},
   "outputs": [
    {
     "data": {
      "text/html": [
       "<div>\n",
       "<style scoped>\n",
       "    .dataframe tbody tr th:only-of-type {\n",
       "        vertical-align: middle;\n",
       "    }\n",
       "\n",
       "    .dataframe tbody tr th {\n",
       "        vertical-align: top;\n",
       "    }\n",
       "\n",
       "    .dataframe thead th {\n",
       "        text-align: right;\n",
       "    }\n",
       "</style>\n",
       "<table border=\"1\" class=\"dataframe\">\n",
       "  <thead>\n",
       "    <tr style=\"text-align: right;\">\n",
       "      <th></th>\n",
       "      <th>date</th>\n",
       "      <th>favorite_count</th>\n",
       "      <th>followers_count</th>\n",
       "      <th>friends_count</th>\n",
       "      <th>full_text</th>\n",
       "      <th>retweet_count</th>\n",
       "      <th>retweeted</th>\n",
       "      <th>screen_name</th>\n",
       "      <th>tweet_id</th>\n",
       "      <th>user_id</th>\n",
       "    </tr>\n",
       "  </thead>\n",
       "  <tbody>\n",
       "    <tr>\n",
       "      <th>0</th>\n",
       "      <td>7/18/2019 22:47</td>\n",
       "      <td>0</td>\n",
       "      <td>82</td>\n",
       "      <td>219</td>\n",
       "      <td>@Mahi_2510 @swiggy_in The ultimate answer will...</td>\n",
       "      <td>0</td>\n",
       "      <td>False</td>\n",
       "      <td>syamantak1</td>\n",
       "      <td>1</td>\n",
       "      <td>61,959,419</td>\n",
       "    </tr>\n",
       "    <tr>\n",
       "      <th>1</th>\n",
       "      <td>7/18/2019 22:43</td>\n",
       "      <td>0</td>\n",
       "      <td>102</td>\n",
       "      <td>129</td>\n",
       "      <td>@SwiggyCares I hope so.</td>\n",
       "      <td>0</td>\n",
       "      <td>False</td>\n",
       "      <td>Bharatbbhushn</td>\n",
       "      <td>2</td>\n",
       "      <td>143,284,383</td>\n",
       "    </tr>\n",
       "    <tr>\n",
       "      <th>2</th>\n",
       "      <td>7/18/2019 22:37</td>\n",
       "      <td>0</td>\n",
       "      <td>102</td>\n",
       "      <td>129</td>\n",
       "      <td>@SwiggyCares I think you have the order detail...</td>\n",
       "      <td>0</td>\n",
       "      <td>False</td>\n",
       "      <td>Bharatbbhushn</td>\n",
       "      <td>3</td>\n",
       "      <td>143,284,383</td>\n",
       "    </tr>\n",
       "    <tr>\n",
       "      <th>3</th>\n",
       "      <td>7/18/2019 22:35</td>\n",
       "      <td>0</td>\n",
       "      <td>13</td>\n",
       "      <td>16</td>\n",
       "      <td>@swiggy_in People are complaining here also, i...</td>\n",
       "      <td>0</td>\n",
       "      <td>False</td>\n",
       "      <td>taifkhalid01</td>\n",
       "      <td>4</td>\n",
       "      <td>830,340,000,000,000,000</td>\n",
       "    </tr>\n",
       "    <tr>\n",
       "      <th>4</th>\n",
       "      <td>7/18/2019 22:25</td>\n",
       "      <td>0</td>\n",
       "      <td>102</td>\n",
       "      <td>129</td>\n",
       "      <td>@SwiggyCares Do you even know the meaning of y...</td>\n",
       "      <td>0</td>\n",
       "      <td>False</td>\n",
       "      <td>Bharatbbhushn</td>\n",
       "      <td>5</td>\n",
       "      <td>143,284,383</td>\n",
       "    </tr>\n",
       "  </tbody>\n",
       "</table>\n",
       "</div>"
      ],
      "text/plain": [
       "              date  favorite_count  followers_count  friends_count  \\\n",
       "0  7/18/2019 22:47               0               82            219   \n",
       "1  7/18/2019 22:43               0              102            129   \n",
       "2  7/18/2019 22:37               0              102            129   \n",
       "3  7/18/2019 22:35               0               13             16   \n",
       "4  7/18/2019 22:25               0              102            129   \n",
       "\n",
       "                                           full_text  retweet_count retweeted  \\\n",
       "0  @Mahi_2510 @swiggy_in The ultimate answer will...              0     False   \n",
       "1                            @SwiggyCares I hope so.              0     False   \n",
       "2  @SwiggyCares I think you have the order detail...              0     False   \n",
       "3  @swiggy_in People are complaining here also, i...              0     False   \n",
       "4  @SwiggyCares Do you even know the meaning of y...              0     False   \n",
       "\n",
       "     screen_name tweet_id                  user_id  \n",
       "0     syamantak1        1               61,959,419  \n",
       "1  Bharatbbhushn        2              143,284,383  \n",
       "2  Bharatbbhushn        3              143,284,383  \n",
       "3   taifkhalid01        4  830,340,000,000,000,000  \n",
       "4  Bharatbbhushn        5              143,284,383  "
      ]
     },
     "execution_count": 6,
     "metadata": {},
     "output_type": "execute_result"
    }
   ],
   "source": [
    "df.head(5)"
   ]
  },
  {
   "cell_type": "code",
   "execution_count": 7,
   "id": "3801ade1",
   "metadata": {},
   "outputs": [
    {
     "data": {
      "text/plain": [
       "(16712, 10)"
      ]
     },
     "execution_count": 7,
     "metadata": {},
     "output_type": "execute_result"
    }
   ],
   "source": [
    "df.shape"
   ]
  },
  {
   "cell_type": "code",
   "execution_count": 8,
   "id": "4ca2242c",
   "metadata": {},
   "outputs": [
    {
     "name": "stdout",
     "output_type": "stream",
     "text": [
      "<class 'pandas.core.frame.DataFrame'>\n",
      "RangeIndex: 16712 entries, 0 to 16711\n",
      "Data columns (total 10 columns):\n",
      " #   Column           Non-Null Count  Dtype \n",
      "---  ------           --------------  ----- \n",
      " 0   date             16712 non-null  object\n",
      " 1   favorite_count   16712 non-null  int64 \n",
      " 2   followers_count  16712 non-null  int64 \n",
      " 3   friends_count    16712 non-null  int64 \n",
      " 4   full_text        16712 non-null  object\n",
      " 5   retweet_count    16712 non-null  int64 \n",
      " 6   retweeted        14384 non-null  object\n",
      " 7   screen_name      16712 non-null  object\n",
      " 8   tweet_id         16712 non-null  object\n",
      " 9   user_id          16712 non-null  object\n",
      "dtypes: int64(4), object(6)\n",
      "memory usage: 1.3+ MB\n"
     ]
    }
   ],
   "source": [
    "df.info()"
   ]
  },
  {
   "cell_type": "code",
   "execution_count": 9,
   "id": "b277ce45",
   "metadata": {},
   "outputs": [
    {
     "name": "stdout",
     "output_type": "stream",
     "text": [
      "date\n",
      "favorite_count\n",
      "followers_count\n",
      "friends_count\n",
      "full_text\n",
      "retweet_count\n",
      "retweeted\n",
      "screen_name\n",
      "tweet_id\n",
      "user_id\n"
     ]
    }
   ],
   "source": [
    "for i in df.columns:\n",
    "    print(i)"
   ]
  },
  {
   "cell_type": "code",
   "execution_count": 10,
   "id": "ca9f3f38",
   "metadata": {},
   "outputs": [
    {
     "name": "stdout",
     "output_type": "stream",
     "text": [
      "date\n",
      "6/2/2019 11:12     17\n",
      "6/2/2019 11:10     14\n",
      "6/1/2019 12:40     13\n",
      "6/16/2019 17:11    11\n",
      "6/1/2019 12:39      9\n",
      "                   ..\n",
      "6/3/2019 18:40      1\n",
      "6/3/2019 18:42      1\n",
      "6/3/2019 18:44      1\n",
      "6/3/2019 18:53      1\n",
      "7/11/2019 12:09     1\n",
      "Name: date, Length: 11097, dtype: int64\n",
      "-----------------------------------------------------------------------------------------------\n",
      "\n",
      "\n",
      "favorite_count\n",
      "0      13789\n",
      "1       1853\n",
      "2        506\n",
      "3        223\n",
      "4        105\n",
      "5         51\n",
      "6         29\n",
      "7         23\n",
      "8         20\n",
      "9         18\n",
      "11         9\n",
      "13         8\n",
      "19         7\n",
      "12         7\n",
      "10         6\n",
      "15         4\n",
      "38         4\n",
      "20         4\n",
      "18         3\n",
      "16         3\n",
      "31         3\n",
      "25         2\n",
      "17         2\n",
      "34         2\n",
      "27         2\n",
      "33         2\n",
      "59         2\n",
      "40         1\n",
      "54         1\n",
      "70         1\n",
      "58         1\n",
      "23         1\n",
      "916        1\n",
      "30         1\n",
      "14         1\n",
      "46         1\n",
      "474        1\n",
      "134        1\n",
      "62         1\n",
      "94         1\n",
      "56         1\n",
      "374        1\n",
      "53         1\n",
      "22         1\n",
      "35         1\n",
      "55         1\n",
      "65         1\n",
      "44         1\n",
      "152        1\n",
      "83         1\n",
      "69         1\n",
      "24         1\n",
      "Name: favorite_count, dtype: int64\n",
      "-----------------------------------------------------------------------------------------------\n",
      "\n",
      "\n",
      "followers_count\n",
      "0       868\n",
      "1       544\n",
      "2       535\n",
      "3       498\n",
      "4       376\n",
      "       ... \n",
      "1436      1\n",
      "4094      1\n",
      "1677      1\n",
      "6131      1\n",
      "1077      1\n",
      "Name: followers_count, Length: 1524, dtype: int64\n",
      "-----------------------------------------------------------------------------------------------\n",
      "\n",
      "\n",
      "friends_count\n",
      "0        334\n",
      "2        179\n",
      "1        163\n",
      "3        125\n",
      "7        123\n",
      "        ... \n",
      "1934       1\n",
      "3711       1\n",
      "1381       1\n",
      "10210      1\n",
      "1216       1\n",
      "Name: friends_count, Length: 1505, dtype: int64\n",
      "-----------------------------------------------------------------------------------------------\n",
      "\n",
      "\n",
      "full_text\n",
      "@zomatocare @ZomatoIN finally you guys replied after 3 days on DM to let me know that someone from your team will be reaching out to me, and I am still waiting after 2 day LMAO. you guys are the worst Ã°Å¸ââ¬ customer service team. @swiggy_in is better than                                                      2\n",
      "@swiggy_in The Worst food delivering company. There is no good customer service .It's better to choose #Zomato #UberEATS then #swiggy . #swiggy they will just waste your time and even the food which I recive was worst.#saynotoswiggy.                                                                                 2\n",
      "@swiggy_in @SwiggyCares can u please let me know what was the issue and y r unable to resolve it. Ur response was so poor that my wife has to get up n prepare food late night for my kids. Such a worst service. The Customer care ws so happy 2 cancel order.                                                           2\n",
      "@SwiggyCares @swiggy_in 2 hours since I placed an order and the delivery boy hasn't moved an inch. 12 calls to him, no answer. To the rescue is Swiggy's customer service - the executive lies that the food would be there 2-3 mins and conveniently shuts the                                                           2\n",
      "@swiggy_in \\n My money has been taken from my account and the delivery boy has manipulated my order, I have NOT recieved the order and on the app it is showing as order delivered.\\n What sort of SCAM is this.\\n Swiggy takes money and does not deliver food.I wan                                                     2\n",
      "                                                                                                                                                                                                                                                                                                                         ..\n",
      "@theskindoctor13 @ZomatoIN @swiggy_in @UberEats_IND Seems like the problem is widespread and not in tier 2 or tier 3 cities. They endanger their own lives to meet unreal time lines. https://t.co/fSlJUEYm7h                                                                                                             1\n",
      "Why is the cricket stadium so cool? - Because it has so many fans!\\n \\n Enjoy the match at home and get our delicious dishes delivered to you.\\n \\n Order online through @ZomatoIN, @swiggy_in or @ScootsyIt\\n \\n #Cricket #CricketFever #Game #Gameon #Deliveries #FoodForThought #IndigoDeli https://t.co/Cbrd543Tpg    1\n",
      "@deepigoyal @vijayshekhar @Zomato @swiggy_in looking for temporary staff to test out your new feature, hire a gigster.\\n Link in description.                                                                                                                                                                             1\n",
      "@SwiggyCares @GooglePay provide your inputs too..                                                                                                                                                                                                                                                                         1\n",
      "@Being_Humor @ZomatoIN @swiggy_in can you help my friend over here?                                                                                                                                                                                                                                                       1\n",
      "Name: full_text, Length: 16703, dtype: int64\n",
      "-----------------------------------------------------------------------------------------------\n",
      "\n",
      "\n",
      "retweet_count\n",
      "0      15734\n",
      "1        713\n",
      "2        128\n",
      "3         54\n",
      "4         22\n",
      "5         17\n",
      "6         12\n",
      "7          6\n",
      "12         5\n",
      "8          3\n",
      "23         2\n",
      "11         2\n",
      "28         1\n",
      "18         1\n",
      "20         1\n",
      "37         1\n",
      "64         1\n",
      "15         1\n",
      "9          1\n",
      "24         1\n",
      "487        1\n",
      "34         1\n",
      "29         1\n",
      "10         1\n",
      "13         1\n",
      "25         1\n",
      "Name: retweet_count, dtype: int64\n",
      "-----------------------------------------------------------------------------------------------\n",
      "\n",
      "\n",
      "retweeted\n",
      "False    14384\n",
      "Name: retweeted, dtype: int64\n",
      "-----------------------------------------------------------------------------------------------\n",
      "\n",
      "\n",
      "screen_name\n",
      "SandipThink        71\n",
      "SwiggyCares        70\n",
      "Vineeta75481990    53\n",
      "bachPunn           53\n",
      "zomatocare         45\n",
      "                   ..\n",
      "shah_alpana         1\n",
      "Subhash_ati9        1\n",
      "VivekRFdez          1\n",
      "MukundNair90        1\n",
      "TejasShelar2498     1\n",
      "Name: screen_name, Length: 8617, dtype: int64\n",
      "-----------------------------------------------------------------------------------------------\n",
      "\n",
      "\n",
      "tweet_id\n",
      "1         1\n",
      "11,132    1\n",
      "11,134    1\n",
      "11,135    1\n",
      "11,136    1\n",
      "         ..\n",
      "5,576     1\n",
      "5,577     1\n",
      "5,578     1\n",
      "5,579     1\n",
      "16,712    1\n",
      "Name: tweet_id, Length: 16712, dtype: int64\n",
      "-----------------------------------------------------------------------------------------------\n",
      "\n",
      "\n",
      "user_id\n",
      "522,872,786                  71\n",
      "3,286,336,254                70\n",
      "1,143,460,000,000,000,000    53\n",
      "121,623,930                  53\n",
      "988,363,000,000,000,000      45\n",
      "                             ..\n",
      "1,140,560,000,000,000,000     1\n",
      "798,387,000,000,000,000       1\n",
      "141,512,764                   1\n",
      "2,224,980,026                 1\n",
      "717,511,000,000,000,000       1\n",
      "Name: user_id, Length: 8539, dtype: int64\n",
      "-----------------------------------------------------------------------------------------------\n",
      "\n",
      "\n"
     ]
    }
   ],
   "source": [
    "for i in df.select_dtypes(include=['object','int']):\n",
    "    print(i)\n",
    "    print(df[i].value_counts())\n",
    "    print('-----------------------------------------------------------------------------------------------')\n",
    "    print('\\n')"
   ]
  },
  {
   "cell_type": "code",
   "execution_count": 11,
   "id": "cee071ea",
   "metadata": {},
   "outputs": [],
   "source": [
    "#here we are doing sentiment analysis so we need only text column"
   ]
  },
  {
   "cell_type": "code",
   "execution_count": 12,
   "id": "f213a25a",
   "metadata": {},
   "outputs": [],
   "source": [
    "df1=df['full_text']"
   ]
  },
  {
   "cell_type": "code",
   "execution_count": 13,
   "id": "19e05652",
   "metadata": {},
   "outputs": [
    {
     "data": {
      "text/plain": [
       "pandas.core.series.Series"
      ]
     },
     "execution_count": 13,
     "metadata": {},
     "output_type": "execute_result"
    }
   ],
   "source": [
    "type(df1)"
   ]
  },
  {
   "cell_type": "code",
   "execution_count": 14,
   "id": "87f1c58c",
   "metadata": {},
   "outputs": [],
   "source": [
    "text_df=pd.DataFrame(data=df1)"
   ]
  },
  {
   "cell_type": "code",
   "execution_count": 15,
   "id": "58db8a1d",
   "metadata": {},
   "outputs": [
    {
     "data": {
      "text/html": [
       "<div>\n",
       "<style scoped>\n",
       "    .dataframe tbody tr th:only-of-type {\n",
       "        vertical-align: middle;\n",
       "    }\n",
       "\n",
       "    .dataframe tbody tr th {\n",
       "        vertical-align: top;\n",
       "    }\n",
       "\n",
       "    .dataframe thead th {\n",
       "        text-align: right;\n",
       "    }\n",
       "</style>\n",
       "<table border=\"1\" class=\"dataframe\">\n",
       "  <thead>\n",
       "    <tr style=\"text-align: right;\">\n",
       "      <th></th>\n",
       "      <th>full_text</th>\n",
       "    </tr>\n",
       "  </thead>\n",
       "  <tbody>\n",
       "    <tr>\n",
       "      <th>0</th>\n",
       "      <td>@Mahi_2510 @swiggy_in The ultimate answer will...</td>\n",
       "    </tr>\n",
       "    <tr>\n",
       "      <th>1</th>\n",
       "      <td>@SwiggyCares I hope so.</td>\n",
       "    </tr>\n",
       "    <tr>\n",
       "      <th>2</th>\n",
       "      <td>@SwiggyCares I think you have the order detail...</td>\n",
       "    </tr>\n",
       "    <tr>\n",
       "      <th>3</th>\n",
       "      <td>@swiggy_in People are complaining here also, i...</td>\n",
       "    </tr>\n",
       "    <tr>\n",
       "      <th>4</th>\n",
       "      <td>@SwiggyCares Do you even know the meaning of y...</td>\n",
       "    </tr>\n",
       "  </tbody>\n",
       "</table>\n",
       "</div>"
      ],
      "text/plain": [
       "                                           full_text\n",
       "0  @Mahi_2510 @swiggy_in The ultimate answer will...\n",
       "1                            @SwiggyCares I hope so.\n",
       "2  @SwiggyCares I think you have the order detail...\n",
       "3  @swiggy_in People are complaining here also, i...\n",
       "4  @SwiggyCares Do you even know the meaning of y..."
      ]
     },
     "execution_count": 15,
     "metadata": {},
     "output_type": "execute_result"
    }
   ],
   "source": [
    "text_df.head(5)"
   ]
  },
  {
   "cell_type": "code",
   "execution_count": 16,
   "id": "7da7bfd3",
   "metadata": {},
   "outputs": [
    {
     "data": {
      "text/plain": [
       "'@Mahi_2510 @swiggy_in The ultimate answer will b sorry ... They assure that ...'"
      ]
     },
     "execution_count": 16,
     "metadata": {},
     "output_type": "execute_result"
    }
   ],
   "source": [
    "text_df['full_text'][0]"
   ]
  },
  {
   "cell_type": "code",
   "execution_count": 17,
   "id": "ab0ca5b9",
   "metadata": {},
   "outputs": [],
   "source": [
    "def preprocessor(text):\n",
    "    text = re.sub('[^a-zA-Z]',' ',text)\n",
    "    text = text.lower()\n",
    "    text = text.strip()\n",
    "    text = ' '.join([WordNetLemmatizer().lemmatize(word,pos='v') for word in text.split()])    \n",
    "    text = ' '.join([word for word in text.split() if word not in stopwords.words('english')])\n",
    "    return pd.Series([\"\".join(text)])"
   ]
  },
  {
   "cell_type": "code",
   "execution_count": 18,
   "id": "3a486bf1",
   "metadata": {},
   "outputs": [
    {
     "name": "stderr",
     "output_type": "stream",
     "text": [
      "100%|████████████████████████████████████████████████████████████████████████████| 16712/16712 [05:55<00:00, 47.04it/s]\n"
     ]
    }
   ],
   "source": [
    "text_df =text_df['full_text'].progress_apply(lambda x :preprocessor(x))"
   ]
  },
  {
   "cell_type": "code",
   "execution_count": 19,
   "id": "8becd6a4",
   "metadata": {},
   "outputs": [
    {
     "data": {
      "text/html": [
       "<div>\n",
       "<style scoped>\n",
       "    .dataframe tbody tr th:only-of-type {\n",
       "        vertical-align: middle;\n",
       "    }\n",
       "\n",
       "    .dataframe tbody tr th {\n",
       "        vertical-align: top;\n",
       "    }\n",
       "\n",
       "    .dataframe thead th {\n",
       "        text-align: right;\n",
       "    }\n",
       "</style>\n",
       "<table border=\"1\" class=\"dataframe\">\n",
       "  <thead>\n",
       "    <tr style=\"text-align: right;\">\n",
       "      <th></th>\n",
       "      <th>0</th>\n",
       "    </tr>\n",
       "  </thead>\n",
       "  <tbody>\n",
       "    <tr>\n",
       "      <th>0</th>\n",
       "      <td>mahi swiggy ultimate answer b sorry assure</td>\n",
       "    </tr>\n",
       "    <tr>\n",
       "      <th>1</th>\n",
       "      <td>swiggycares hope</td>\n",
       "    </tr>\n",
       "    <tr>\n",
       "      <th>2</th>\n",
       "      <td>swiggycares think order detail number present ...</td>\n",
       "    </tr>\n",
       "    <tr>\n",
       "      <th>3</th>\n",
       "      <td>swiggy people complain also know little disapp...</td>\n",
       "    </tr>\n",
       "    <tr>\n",
       "      <th>4</th>\n",
       "      <td>swiggycares even know mean tagline dm win work...</td>\n",
       "    </tr>\n",
       "  </tbody>\n",
       "</table>\n",
       "</div>"
      ],
      "text/plain": [
       "                                                   0\n",
       "0         mahi swiggy ultimate answer b sorry assure\n",
       "1                                   swiggycares hope\n",
       "2  swiggycares think order detail number present ...\n",
       "3  swiggy people complain also know little disapp...\n",
       "4  swiggycares even know mean tagline dm win work..."
      ]
     },
     "execution_count": 19,
     "metadata": {},
     "output_type": "execute_result"
    }
   ],
   "source": [
    "text_df.head(5)"
   ]
  },
  {
   "cell_type": "code",
   "execution_count": 20,
   "id": "cf3053a7",
   "metadata": {},
   "outputs": [],
   "source": [
    "text_df.columns=['Text']"
   ]
  },
  {
   "cell_type": "code",
   "execution_count": 21,
   "id": "bc21f840",
   "metadata": {},
   "outputs": [
    {
     "data": {
      "text/html": [
       "<div>\n",
       "<style scoped>\n",
       "    .dataframe tbody tr th:only-of-type {\n",
       "        vertical-align: middle;\n",
       "    }\n",
       "\n",
       "    .dataframe tbody tr th {\n",
       "        vertical-align: top;\n",
       "    }\n",
       "\n",
       "    .dataframe thead th {\n",
       "        text-align: right;\n",
       "    }\n",
       "</style>\n",
       "<table border=\"1\" class=\"dataframe\">\n",
       "  <thead>\n",
       "    <tr style=\"text-align: right;\">\n",
       "      <th></th>\n",
       "      <th>Text</th>\n",
       "    </tr>\n",
       "  </thead>\n",
       "  <tbody>\n",
       "    <tr>\n",
       "      <th>0</th>\n",
       "      <td>mahi swiggy ultimate answer b sorry assure</td>\n",
       "    </tr>\n",
       "    <tr>\n",
       "      <th>1</th>\n",
       "      <td>swiggycares hope</td>\n",
       "    </tr>\n",
       "    <tr>\n",
       "      <th>2</th>\n",
       "      <td>swiggycares think order detail number present ...</td>\n",
       "    </tr>\n",
       "    <tr>\n",
       "      <th>3</th>\n",
       "      <td>swiggy people complain also know little disapp...</td>\n",
       "    </tr>\n",
       "    <tr>\n",
       "      <th>4</th>\n",
       "      <td>swiggycares even know mean tagline dm win work...</td>\n",
       "    </tr>\n",
       "  </tbody>\n",
       "</table>\n",
       "</div>"
      ],
      "text/plain": [
       "                                                Text\n",
       "0         mahi swiggy ultimate answer b sorry assure\n",
       "1                                   swiggycares hope\n",
       "2  swiggycares think order detail number present ...\n",
       "3  swiggy people complain also know little disapp...\n",
       "4  swiggycares even know mean tagline dm win work..."
      ]
     },
     "execution_count": 21,
     "metadata": {},
     "output_type": "execute_result"
    }
   ],
   "source": [
    "text_df.head(5)"
   ]
  },
  {
   "cell_type": "code",
   "execution_count": 22,
   "id": "de28b0a6",
   "metadata": {},
   "outputs": [
    {
     "name": "stdout",
     "output_type": "stream",
     "text": [
      "mahi swiggy ultimate answer b sorry assure\n",
      "swiggycares hope\n",
      "swiggycares think order detail number present yea call right\n",
      "swiggy people complain also know little disappoint service customer service center make direct message necessary every time everything perfect sometimes mistake happen\n",
      "swiggycares even know mean tagline dm win work want explanation\n"
     ]
    }
   ],
   "source": [
    "for i in text_df['Text'][0:5]:\n",
    "    print(i)"
   ]
  },
  {
   "cell_type": "code",
   "execution_count": 23,
   "id": "b2d7486a",
   "metadata": {},
   "outputs": [],
   "source": [
    "from vaderSentiment.vaderSentiment import SentimentIntensityAnalyzer\n",
    "analyzer = SentimentIntensityAnalyzer()"
   ]
  },
  {
   "cell_type": "code",
   "execution_count": 24,
   "id": "bff1a886",
   "metadata": {},
   "outputs": [],
   "source": [
    "review=[]\n",
    "for i in text_df['Text']:\n",
    "    vs=analyzer.polarity_scores(i)\n",
    "    review.append(str(vs))"
   ]
  },
  {
   "cell_type": "code",
   "execution_count": 25,
   "id": "98d30e73",
   "metadata": {},
   "outputs": [
    {
     "data": {
      "text/plain": [
       "16712"
      ]
     },
     "execution_count": 25,
     "metadata": {},
     "output_type": "execute_result"
    }
   ],
   "source": [
    "len(review)"
   ]
  },
  {
   "cell_type": "code",
   "execution_count": 26,
   "id": "d1875ad5",
   "metadata": {},
   "outputs": [
    {
     "data": {
      "text/plain": [
       "\"{'neg': 0.149, 'neu': 0.575, 'pos': 0.276, 'compound': 0.2732}\""
      ]
     },
     "execution_count": 26,
     "metadata": {},
     "output_type": "execute_result"
    }
   ],
   "source": [
    "review[0]"
   ]
  },
  {
   "cell_type": "code",
   "execution_count": 27,
   "id": "5221b1a9",
   "metadata": {},
   "outputs": [
    {
     "data": {
      "text/plain": [
       "['0.149', '0.575', '0.276', '0.2732']"
      ]
     },
     "execution_count": 27,
     "metadata": {},
     "output_type": "execute_result"
    }
   ],
   "source": [
    "re.findall(\"\\d+\\.\\d+\",review[0])"
   ]
  },
  {
   "cell_type": "code",
   "execution_count": 28,
   "id": "d6a85735",
   "metadata": {},
   "outputs": [],
   "source": [
    "senti=[]\n",
    "for i in range(len(review)):\n",
    "    senti.append(re.findall(\"\\d+\\.\\d+\",review[i]))"
   ]
  },
  {
   "cell_type": "code",
   "execution_count": 29,
   "id": "9ad65d45",
   "metadata": {},
   "outputs": [
    {
     "data": {
      "text/plain": [
       "[['0.149', '0.575', '0.276', '0.2732'],\n",
       " ['0.0', '0.256', '0.744', '0.4404'],\n",
       " ['0.0', '0.86', '0.14', '0.0772'],\n",
       " ['0.252', '0.621', '0.128', '0.3832'],\n",
       " ['0.0', '0.611', '0.389', '0.6249'],\n",
       " ['0.0', '0.799', '0.201', '0.5448'],\n",
       " ['0.176', '0.733', '0.092', '0.3182'],\n",
       " ['0.0', '1.0', '0.0', '0.0'],\n",
       " ['0.0', '0.519', '0.481', '0.7964'],\n",
       " ['0.0', '0.781', '0.219', '0.4939']]"
      ]
     },
     "execution_count": 29,
     "metadata": {},
     "output_type": "execute_result"
    }
   ],
   "source": [
    "senti[0:10]"
   ]
  },
  {
   "cell_type": "code",
   "execution_count": 30,
   "id": "d92db67f",
   "metadata": {},
   "outputs": [],
   "source": [
    "sen_df=pd.DataFrame(senti)"
   ]
  },
  {
   "cell_type": "code",
   "execution_count": 31,
   "id": "28a95981",
   "metadata": {},
   "outputs": [
    {
     "data": {
      "text/html": [
       "<div>\n",
       "<style scoped>\n",
       "    .dataframe tbody tr th:only-of-type {\n",
       "        vertical-align: middle;\n",
       "    }\n",
       "\n",
       "    .dataframe tbody tr th {\n",
       "        vertical-align: top;\n",
       "    }\n",
       "\n",
       "    .dataframe thead th {\n",
       "        text-align: right;\n",
       "    }\n",
       "</style>\n",
       "<table border=\"1\" class=\"dataframe\">\n",
       "  <thead>\n",
       "    <tr style=\"text-align: right;\">\n",
       "      <th></th>\n",
       "      <th>0</th>\n",
       "      <th>1</th>\n",
       "      <th>2</th>\n",
       "      <th>3</th>\n",
       "    </tr>\n",
       "  </thead>\n",
       "  <tbody>\n",
       "    <tr>\n",
       "      <th>0</th>\n",
       "      <td>0.149</td>\n",
       "      <td>0.575</td>\n",
       "      <td>0.276</td>\n",
       "      <td>0.2732</td>\n",
       "    </tr>\n",
       "    <tr>\n",
       "      <th>1</th>\n",
       "      <td>0.0</td>\n",
       "      <td>0.256</td>\n",
       "      <td>0.744</td>\n",
       "      <td>0.4404</td>\n",
       "    </tr>\n",
       "    <tr>\n",
       "      <th>2</th>\n",
       "      <td>0.0</td>\n",
       "      <td>0.86</td>\n",
       "      <td>0.14</td>\n",
       "      <td>0.0772</td>\n",
       "    </tr>\n",
       "    <tr>\n",
       "      <th>3</th>\n",
       "      <td>0.252</td>\n",
       "      <td>0.621</td>\n",
       "      <td>0.128</td>\n",
       "      <td>0.3832</td>\n",
       "    </tr>\n",
       "    <tr>\n",
       "      <th>4</th>\n",
       "      <td>0.0</td>\n",
       "      <td>0.611</td>\n",
       "      <td>0.389</td>\n",
       "      <td>0.6249</td>\n",
       "    </tr>\n",
       "  </tbody>\n",
       "</table>\n",
       "</div>"
      ],
      "text/plain": [
       "       0      1      2       3\n",
       "0  0.149  0.575  0.276  0.2732\n",
       "1    0.0  0.256  0.744  0.4404\n",
       "2    0.0   0.86   0.14  0.0772\n",
       "3  0.252  0.621  0.128  0.3832\n",
       "4    0.0  0.611  0.389  0.6249"
      ]
     },
     "execution_count": 31,
     "metadata": {},
     "output_type": "execute_result"
    }
   ],
   "source": [
    "sen_df.head()"
   ]
  },
  {
   "cell_type": "code",
   "execution_count": 32,
   "id": "7869c688",
   "metadata": {},
   "outputs": [],
   "source": [
    "final_df=pd.concat((text_df,sen_df),axis=1)"
   ]
  },
  {
   "cell_type": "code",
   "execution_count": 33,
   "id": "b313d290",
   "metadata": {},
   "outputs": [
    {
     "data": {
      "text/html": [
       "<div>\n",
       "<style scoped>\n",
       "    .dataframe tbody tr th:only-of-type {\n",
       "        vertical-align: middle;\n",
       "    }\n",
       "\n",
       "    .dataframe tbody tr th {\n",
       "        vertical-align: top;\n",
       "    }\n",
       "\n",
       "    .dataframe thead th {\n",
       "        text-align: right;\n",
       "    }\n",
       "</style>\n",
       "<table border=\"1\" class=\"dataframe\">\n",
       "  <thead>\n",
       "    <tr style=\"text-align: right;\">\n",
       "      <th></th>\n",
       "      <th>Text</th>\n",
       "      <th>0</th>\n",
       "      <th>1</th>\n",
       "      <th>2</th>\n",
       "      <th>3</th>\n",
       "    </tr>\n",
       "  </thead>\n",
       "  <tbody>\n",
       "    <tr>\n",
       "      <th>0</th>\n",
       "      <td>mahi swiggy ultimate answer b sorry assure</td>\n",
       "      <td>0.149</td>\n",
       "      <td>0.575</td>\n",
       "      <td>0.276</td>\n",
       "      <td>0.2732</td>\n",
       "    </tr>\n",
       "    <tr>\n",
       "      <th>1</th>\n",
       "      <td>swiggycares hope</td>\n",
       "      <td>0.0</td>\n",
       "      <td>0.256</td>\n",
       "      <td>0.744</td>\n",
       "      <td>0.4404</td>\n",
       "    </tr>\n",
       "    <tr>\n",
       "      <th>2</th>\n",
       "      <td>swiggycares think order detail number present ...</td>\n",
       "      <td>0.0</td>\n",
       "      <td>0.86</td>\n",
       "      <td>0.14</td>\n",
       "      <td>0.0772</td>\n",
       "    </tr>\n",
       "    <tr>\n",
       "      <th>3</th>\n",
       "      <td>swiggy people complain also know little disapp...</td>\n",
       "      <td>0.252</td>\n",
       "      <td>0.621</td>\n",
       "      <td>0.128</td>\n",
       "      <td>0.3832</td>\n",
       "    </tr>\n",
       "    <tr>\n",
       "      <th>4</th>\n",
       "      <td>swiggycares even know mean tagline dm win work...</td>\n",
       "      <td>0.0</td>\n",
       "      <td>0.611</td>\n",
       "      <td>0.389</td>\n",
       "      <td>0.6249</td>\n",
       "    </tr>\n",
       "  </tbody>\n",
       "</table>\n",
       "</div>"
      ],
      "text/plain": [
       "                                                Text      0      1      2  \\\n",
       "0         mahi swiggy ultimate answer b sorry assure  0.149  0.575  0.276   \n",
       "1                                   swiggycares hope    0.0  0.256  0.744   \n",
       "2  swiggycares think order detail number present ...    0.0   0.86   0.14   \n",
       "3  swiggy people complain also know little disapp...  0.252  0.621  0.128   \n",
       "4  swiggycares even know mean tagline dm win work...    0.0  0.611  0.389   \n",
       "\n",
       "        3  \n",
       "0  0.2732  \n",
       "1  0.4404  \n",
       "2  0.0772  \n",
       "3  0.3832  \n",
       "4  0.6249  "
      ]
     },
     "execution_count": 33,
     "metadata": {},
     "output_type": "execute_result"
    }
   ],
   "source": [
    "final_df.head()"
   ]
  },
  {
   "cell_type": "code",
   "execution_count": 34,
   "id": "6dc7a719",
   "metadata": {},
   "outputs": [],
   "source": [
    "final_df.columns=['Tweets','negative','neutral','positive','compound']"
   ]
  },
  {
   "cell_type": "code",
   "execution_count": 35,
   "id": "2a055c60",
   "metadata": {},
   "outputs": [
    {
     "data": {
      "text/html": [
       "<div>\n",
       "<style scoped>\n",
       "    .dataframe tbody tr th:only-of-type {\n",
       "        vertical-align: middle;\n",
       "    }\n",
       "\n",
       "    .dataframe tbody tr th {\n",
       "        vertical-align: top;\n",
       "    }\n",
       "\n",
       "    .dataframe thead th {\n",
       "        text-align: right;\n",
       "    }\n",
       "</style>\n",
       "<table border=\"1\" class=\"dataframe\">\n",
       "  <thead>\n",
       "    <tr style=\"text-align: right;\">\n",
       "      <th></th>\n",
       "      <th>Tweets</th>\n",
       "      <th>negative</th>\n",
       "      <th>neutral</th>\n",
       "      <th>positive</th>\n",
       "      <th>compound</th>\n",
       "    </tr>\n",
       "  </thead>\n",
       "  <tbody>\n",
       "    <tr>\n",
       "      <th>0</th>\n",
       "      <td>mahi swiggy ultimate answer b sorry assure</td>\n",
       "      <td>0.149</td>\n",
       "      <td>0.575</td>\n",
       "      <td>0.276</td>\n",
       "      <td>0.2732</td>\n",
       "    </tr>\n",
       "    <tr>\n",
       "      <th>1</th>\n",
       "      <td>swiggycares hope</td>\n",
       "      <td>0.0</td>\n",
       "      <td>0.256</td>\n",
       "      <td>0.744</td>\n",
       "      <td>0.4404</td>\n",
       "    </tr>\n",
       "    <tr>\n",
       "      <th>2</th>\n",
       "      <td>swiggycares think order detail number present ...</td>\n",
       "      <td>0.0</td>\n",
       "      <td>0.86</td>\n",
       "      <td>0.14</td>\n",
       "      <td>0.0772</td>\n",
       "    </tr>\n",
       "    <tr>\n",
       "      <th>3</th>\n",
       "      <td>swiggy people complain also know little disapp...</td>\n",
       "      <td>0.252</td>\n",
       "      <td>0.621</td>\n",
       "      <td>0.128</td>\n",
       "      <td>0.3832</td>\n",
       "    </tr>\n",
       "    <tr>\n",
       "      <th>4</th>\n",
       "      <td>swiggycares even know mean tagline dm win work...</td>\n",
       "      <td>0.0</td>\n",
       "      <td>0.611</td>\n",
       "      <td>0.389</td>\n",
       "      <td>0.6249</td>\n",
       "    </tr>\n",
       "  </tbody>\n",
       "</table>\n",
       "</div>"
      ],
      "text/plain": [
       "                                              Tweets negative neutral  \\\n",
       "0         mahi swiggy ultimate answer b sorry assure    0.149   0.575   \n",
       "1                                   swiggycares hope      0.0   0.256   \n",
       "2  swiggycares think order detail number present ...      0.0    0.86   \n",
       "3  swiggy people complain also know little disapp...    0.252   0.621   \n",
       "4  swiggycares even know mean tagline dm win work...      0.0   0.611   \n",
       "\n",
       "  positive compound  \n",
       "0    0.276   0.2732  \n",
       "1    0.744   0.4404  \n",
       "2     0.14   0.0772  \n",
       "3    0.128   0.3832  \n",
       "4    0.389   0.6249  "
      ]
     },
     "execution_count": 35,
     "metadata": {},
     "output_type": "execute_result"
    }
   ],
   "source": [
    "final_df.head()"
   ]
  },
  {
   "cell_type": "code",
   "execution_count": 36,
   "id": "a77b6874",
   "metadata": {},
   "outputs": [],
   "source": [
    "final_df['negative']=final_df['negative'].astype('float')\n",
    "final_df['neutral']=final_df['neutral'].astype('float')\n",
    "final_df['positive']=final_df['positive'].astype('float')\n",
    "final_df['compound']=final_df['compound'].astype('float')"
   ]
  },
  {
   "cell_type": "code",
   "execution_count": 37,
   "id": "8312d22f",
   "metadata": {},
   "outputs": [],
   "source": [
    "final_df=final_df.drop('compound',axis=1)"
   ]
  },
  {
   "cell_type": "code",
   "execution_count": 38,
   "id": "abfc7ac7",
   "metadata": {},
   "outputs": [
    {
     "name": "stdout",
     "output_type": "stream",
     "text": [
      "<class 'pandas.core.frame.DataFrame'>\n",
      "RangeIndex: 16712 entries, 0 to 16711\n",
      "Data columns (total 4 columns):\n",
      " #   Column    Non-Null Count  Dtype  \n",
      "---  ------    --------------  -----  \n",
      " 0   Tweets    16712 non-null  object \n",
      " 1   negative  16712 non-null  float64\n",
      " 2   neutral   16712 non-null  float64\n",
      " 3   positive  16712 non-null  float64\n",
      "dtypes: float64(3), object(1)\n",
      "memory usage: 522.4+ KB\n"
     ]
    }
   ],
   "source": [
    "final_df.info()"
   ]
  },
  {
   "cell_type": "code",
   "execution_count": 39,
   "id": "91893575",
   "metadata": {},
   "outputs": [
    {
     "data": {
      "text/html": [
       "<div>\n",
       "<style scoped>\n",
       "    .dataframe tbody tr th:only-of-type {\n",
       "        vertical-align: middle;\n",
       "    }\n",
       "\n",
       "    .dataframe tbody tr th {\n",
       "        vertical-align: top;\n",
       "    }\n",
       "\n",
       "    .dataframe thead th {\n",
       "        text-align: right;\n",
       "    }\n",
       "</style>\n",
       "<table border=\"1\" class=\"dataframe\">\n",
       "  <thead>\n",
       "    <tr style=\"text-align: right;\">\n",
       "      <th></th>\n",
       "      <th>Tweets</th>\n",
       "      <th>negative</th>\n",
       "      <th>neutral</th>\n",
       "      <th>positive</th>\n",
       "    </tr>\n",
       "  </thead>\n",
       "  <tbody>\n",
       "    <tr>\n",
       "      <th>0</th>\n",
       "      <td>mahi swiggy ultimate answer b sorry assure</td>\n",
       "      <td>0.149</td>\n",
       "      <td>0.575</td>\n",
       "      <td>0.276</td>\n",
       "    </tr>\n",
       "    <tr>\n",
       "      <th>1</th>\n",
       "      <td>swiggycares hope</td>\n",
       "      <td>0.000</td>\n",
       "      <td>0.256</td>\n",
       "      <td>0.744</td>\n",
       "    </tr>\n",
       "    <tr>\n",
       "      <th>2</th>\n",
       "      <td>swiggycares think order detail number present ...</td>\n",
       "      <td>0.000</td>\n",
       "      <td>0.860</td>\n",
       "      <td>0.140</td>\n",
       "    </tr>\n",
       "    <tr>\n",
       "      <th>3</th>\n",
       "      <td>swiggy people complain also know little disapp...</td>\n",
       "      <td>0.252</td>\n",
       "      <td>0.621</td>\n",
       "      <td>0.128</td>\n",
       "    </tr>\n",
       "    <tr>\n",
       "      <th>4</th>\n",
       "      <td>swiggycares even know mean tagline dm win work...</td>\n",
       "      <td>0.000</td>\n",
       "      <td>0.611</td>\n",
       "      <td>0.389</td>\n",
       "    </tr>\n",
       "  </tbody>\n",
       "</table>\n",
       "</div>"
      ],
      "text/plain": [
       "                                              Tweets  negative  neutral  \\\n",
       "0         mahi swiggy ultimate answer b sorry assure     0.149    0.575   \n",
       "1                                   swiggycares hope     0.000    0.256   \n",
       "2  swiggycares think order detail number present ...     0.000    0.860   \n",
       "3  swiggy people complain also know little disapp...     0.252    0.621   \n",
       "4  swiggycares even know mean tagline dm win work...     0.000    0.611   \n",
       "\n",
       "   positive  \n",
       "0     0.276  \n",
       "1     0.744  \n",
       "2     0.140  \n",
       "3     0.128  \n",
       "4     0.389  "
      ]
     },
     "execution_count": 39,
     "metadata": {},
     "output_type": "execute_result"
    }
   ],
   "source": [
    "final_df.head()"
   ]
  },
  {
   "cell_type": "code",
   "execution_count": 40,
   "id": "85c7d166",
   "metadata": {},
   "outputs": [
    {
     "name": "stderr",
     "output_type": "stream",
     "text": [
      "C:\\Users\\prana\\AppData\\Local\\Temp/ipykernel_26028/101883367.py:1: FutureWarning: Dropping of nuisance columns in DataFrame reductions (with 'numeric_only=None') is deprecated; in a future version this will raise TypeError.  Select only valid columns before calling the reduction.\n",
      "  max_val=final_df.max(axis=1)\n"
     ]
    },
    {
     "data": {
      "text/plain": [
       "0        0.575\n",
       "1        0.744\n",
       "2        0.860\n",
       "3        0.621\n",
       "4        0.611\n",
       "         ...  \n",
       "16707    0.611\n",
       "16708    1.000\n",
       "16709    0.694\n",
       "16710    0.919\n",
       "16711    0.800\n",
       "Length: 16712, dtype: float64"
      ]
     },
     "execution_count": 40,
     "metadata": {},
     "output_type": "execute_result"
    }
   ],
   "source": [
    "max_val=final_df.max(axis=1)\n",
    "max_val"
   ]
  },
  {
   "cell_type": "code",
   "execution_count": 41,
   "id": "496434a9",
   "metadata": {},
   "outputs": [
    {
     "data": {
      "text/plain": [
       "pandas.core.series.Series"
      ]
     },
     "execution_count": 41,
     "metadata": {},
     "output_type": "execute_result"
    }
   ],
   "source": [
    "type(max_val)"
   ]
  },
  {
   "cell_type": "code",
   "execution_count": 42,
   "id": "b57d053f",
   "metadata": {},
   "outputs": [
    {
     "data": {
      "text/html": [
       "<div>\n",
       "<style scoped>\n",
       "    .dataframe tbody tr th:only-of-type {\n",
       "        vertical-align: middle;\n",
       "    }\n",
       "\n",
       "    .dataframe tbody tr th {\n",
       "        vertical-align: top;\n",
       "    }\n",
       "\n",
       "    .dataframe thead th {\n",
       "        text-align: right;\n",
       "    }\n",
       "</style>\n",
       "<table border=\"1\" class=\"dataframe\">\n",
       "  <thead>\n",
       "    <tr style=\"text-align: right;\">\n",
       "      <th></th>\n",
       "      <th>Tweets</th>\n",
       "      <th>negative</th>\n",
       "      <th>neutral</th>\n",
       "      <th>positive</th>\n",
       "      <th>maximum_val</th>\n",
       "    </tr>\n",
       "  </thead>\n",
       "  <tbody>\n",
       "    <tr>\n",
       "      <th>0</th>\n",
       "      <td>mahi swiggy ultimate answer b sorry assure</td>\n",
       "      <td>0.149</td>\n",
       "      <td>0.575</td>\n",
       "      <td>0.276</td>\n",
       "      <td>0.575</td>\n",
       "    </tr>\n",
       "    <tr>\n",
       "      <th>1</th>\n",
       "      <td>swiggycares hope</td>\n",
       "      <td>0.000</td>\n",
       "      <td>0.256</td>\n",
       "      <td>0.744</td>\n",
       "      <td>0.744</td>\n",
       "    </tr>\n",
       "    <tr>\n",
       "      <th>2</th>\n",
       "      <td>swiggycares think order detail number present ...</td>\n",
       "      <td>0.000</td>\n",
       "      <td>0.860</td>\n",
       "      <td>0.140</td>\n",
       "      <td>0.860</td>\n",
       "    </tr>\n",
       "    <tr>\n",
       "      <th>3</th>\n",
       "      <td>swiggy people complain also know little disapp...</td>\n",
       "      <td>0.252</td>\n",
       "      <td>0.621</td>\n",
       "      <td>0.128</td>\n",
       "      <td>0.621</td>\n",
       "    </tr>\n",
       "    <tr>\n",
       "      <th>4</th>\n",
       "      <td>swiggycares even know mean tagline dm win work...</td>\n",
       "      <td>0.000</td>\n",
       "      <td>0.611</td>\n",
       "      <td>0.389</td>\n",
       "      <td>0.611</td>\n",
       "    </tr>\n",
       "    <tr>\n",
       "      <th>...</th>\n",
       "      <td>...</td>\n",
       "      <td>...</td>\n",
       "      <td>...</td>\n",
       "      <td>...</td>\n",
       "      <td>...</td>\n",
       "    </tr>\n",
       "    <tr>\n",
       "      <th>16707</th>\n",
       "      <td>swiggycares say delivery box ready deliver can...</td>\n",
       "      <td>0.175</td>\n",
       "      <td>0.611</td>\n",
       "      <td>0.214</td>\n",
       "      <td>0.611</td>\n",
       "    </tr>\n",
       "    <tr>\n",
       "      <th>16708</th>\n",
       "      <td>swiggy deliver karta nahi install kyo karen</td>\n",
       "      <td>0.000</td>\n",
       "      <td>1.000</td>\n",
       "      <td>0.000</td>\n",
       "      <td>1.000</td>\n",
       "    </tr>\n",
       "    <tr>\n",
       "      <th>16709</th>\n",
       "      <td>swiggy thank spill drink wait call inform drin...</td>\n",
       "      <td>0.162</td>\n",
       "      <td>0.694</td>\n",
       "      <td>0.145</td>\n",
       "      <td>0.694</td>\n",
       "    </tr>\n",
       "    <tr>\n",
       "      <th>16710</th>\n",
       "      <td>swiggycares hello use swigggy regularly order ...</td>\n",
       "      <td>0.081</td>\n",
       "      <td>0.919</td>\n",
       "      <td>0.000</td>\n",
       "      <td>0.919</td>\n",
       "    </tr>\n",
       "    <tr>\n",
       "      <th>16711</th>\n",
       "      <td>humor zomatoin swiggy help friend</td>\n",
       "      <td>0.000</td>\n",
       "      <td>0.200</td>\n",
       "      <td>0.800</td>\n",
       "      <td>0.800</td>\n",
       "    </tr>\n",
       "  </tbody>\n",
       "</table>\n",
       "<p>16712 rows × 5 columns</p>\n",
       "</div>"
      ],
      "text/plain": [
       "                                                  Tweets  negative  neutral  \\\n",
       "0             mahi swiggy ultimate answer b sorry assure     0.149    0.575   \n",
       "1                                       swiggycares hope     0.000    0.256   \n",
       "2      swiggycares think order detail number present ...     0.000    0.860   \n",
       "3      swiggy people complain also know little disapp...     0.252    0.621   \n",
       "4      swiggycares even know mean tagline dm win work...     0.000    0.611   \n",
       "...                                                  ...       ...      ...   \n",
       "16707  swiggycares say delivery box ready deliver can...     0.175    0.611   \n",
       "16708        swiggy deliver karta nahi install kyo karen     0.000    1.000   \n",
       "16709  swiggy thank spill drink wait call inform drin...     0.162    0.694   \n",
       "16710  swiggycares hello use swigggy regularly order ...     0.081    0.919   \n",
       "16711                  humor zomatoin swiggy help friend     0.000    0.200   \n",
       "\n",
       "       positive  maximum_val  \n",
       "0         0.276        0.575  \n",
       "1         0.744        0.744  \n",
       "2         0.140        0.860  \n",
       "3         0.128        0.621  \n",
       "4         0.389        0.611  \n",
       "...         ...          ...  \n",
       "16707     0.214        0.611  \n",
       "16708     0.000        1.000  \n",
       "16709     0.145        0.694  \n",
       "16710     0.000        0.919  \n",
       "16711     0.800        0.800  \n",
       "\n",
       "[16712 rows x 5 columns]"
      ]
     },
     "execution_count": 42,
     "metadata": {},
     "output_type": "execute_result"
    }
   ],
   "source": [
    "final_df['maximum_val']=max_val\n",
    "final_df"
   ]
  },
  {
   "cell_type": "code",
   "execution_count": 43,
   "id": "0e72091a",
   "metadata": {},
   "outputs": [],
   "source": [
    "new_col=[]\n",
    "for i in range(len(final_df)):\n",
    "    for j in ['negative','neutral','positive']:\n",
    "        if final_df[j][i]==final_df['maximum_val'][i]:\n",
    "            new_col.append(j)\n",
    "            break"
   ]
  },
  {
   "cell_type": "code",
   "execution_count": 44,
   "id": "14701ea0",
   "metadata": {},
   "outputs": [
    {
     "data": {
      "text/plain": [
       "16712"
      ]
     },
     "execution_count": 44,
     "metadata": {},
     "output_type": "execute_result"
    }
   ],
   "source": [
    "len(new_col)"
   ]
  },
  {
   "cell_type": "code",
   "execution_count": 45,
   "id": "5b4e9d45",
   "metadata": {},
   "outputs": [],
   "source": [
    "final_df['new_col']=new_col"
   ]
  },
  {
   "cell_type": "code",
   "execution_count": 46,
   "id": "18bd2c9f",
   "metadata": {},
   "outputs": [
    {
     "name": "stdout",
     "output_type": "stream",
     "text": [
      "<class 'pandas.core.frame.DataFrame'>\n",
      "RangeIndex: 16712 entries, 0 to 16711\n",
      "Data columns (total 6 columns):\n",
      " #   Column       Non-Null Count  Dtype  \n",
      "---  ------       --------------  -----  \n",
      " 0   Tweets       16712 non-null  object \n",
      " 1   negative     16712 non-null  float64\n",
      " 2   neutral      16712 non-null  float64\n",
      " 3   positive     16712 non-null  float64\n",
      " 4   maximum_val  16712 non-null  float64\n",
      " 5   new_col      16712 non-null  object \n",
      "dtypes: float64(4), object(2)\n",
      "memory usage: 783.5+ KB\n"
     ]
    }
   ],
   "source": [
    "final_df.info()"
   ]
  },
  {
   "cell_type": "code",
   "execution_count": 47,
   "id": "d5cb2dd7",
   "metadata": {},
   "outputs": [
    {
     "data": {
      "text/html": [
       "<div>\n",
       "<style scoped>\n",
       "    .dataframe tbody tr th:only-of-type {\n",
       "        vertical-align: middle;\n",
       "    }\n",
       "\n",
       "    .dataframe tbody tr th {\n",
       "        vertical-align: top;\n",
       "    }\n",
       "\n",
       "    .dataframe thead th {\n",
       "        text-align: right;\n",
       "    }\n",
       "</style>\n",
       "<table border=\"1\" class=\"dataframe\">\n",
       "  <thead>\n",
       "    <tr style=\"text-align: right;\">\n",
       "      <th></th>\n",
       "      <th>Tweets</th>\n",
       "      <th>negative</th>\n",
       "      <th>neutral</th>\n",
       "      <th>positive</th>\n",
       "      <th>maximum_val</th>\n",
       "      <th>new_col</th>\n",
       "    </tr>\n",
       "  </thead>\n",
       "  <tbody>\n",
       "    <tr>\n",
       "      <th>0</th>\n",
       "      <td>mahi swiggy ultimate answer b sorry assure</td>\n",
       "      <td>0.149</td>\n",
       "      <td>0.575</td>\n",
       "      <td>0.276</td>\n",
       "      <td>0.575</td>\n",
       "      <td>neutral</td>\n",
       "    </tr>\n",
       "    <tr>\n",
       "      <th>1</th>\n",
       "      <td>swiggycares hope</td>\n",
       "      <td>0.000</td>\n",
       "      <td>0.256</td>\n",
       "      <td>0.744</td>\n",
       "      <td>0.744</td>\n",
       "      <td>positive</td>\n",
       "    </tr>\n",
       "    <tr>\n",
       "      <th>2</th>\n",
       "      <td>swiggycares think order detail number present ...</td>\n",
       "      <td>0.000</td>\n",
       "      <td>0.860</td>\n",
       "      <td>0.140</td>\n",
       "      <td>0.860</td>\n",
       "      <td>neutral</td>\n",
       "    </tr>\n",
       "    <tr>\n",
       "      <th>3</th>\n",
       "      <td>swiggy people complain also know little disapp...</td>\n",
       "      <td>0.252</td>\n",
       "      <td>0.621</td>\n",
       "      <td>0.128</td>\n",
       "      <td>0.621</td>\n",
       "      <td>neutral</td>\n",
       "    </tr>\n",
       "    <tr>\n",
       "      <th>4</th>\n",
       "      <td>swiggycares even know mean tagline dm win work...</td>\n",
       "      <td>0.000</td>\n",
       "      <td>0.611</td>\n",
       "      <td>0.389</td>\n",
       "      <td>0.611</td>\n",
       "      <td>neutral</td>\n",
       "    </tr>\n",
       "  </tbody>\n",
       "</table>\n",
       "</div>"
      ],
      "text/plain": [
       "                                              Tweets  negative  neutral  \\\n",
       "0         mahi swiggy ultimate answer b sorry assure     0.149    0.575   \n",
       "1                                   swiggycares hope     0.000    0.256   \n",
       "2  swiggycares think order detail number present ...     0.000    0.860   \n",
       "3  swiggy people complain also know little disapp...     0.252    0.621   \n",
       "4  swiggycares even know mean tagline dm win work...     0.000    0.611   \n",
       "\n",
       "   positive  maximum_val   new_col  \n",
       "0     0.276        0.575   neutral  \n",
       "1     0.744        0.744  positive  \n",
       "2     0.140        0.860   neutral  \n",
       "3     0.128        0.621   neutral  \n",
       "4     0.389        0.611   neutral  "
      ]
     },
     "execution_count": 47,
     "metadata": {},
     "output_type": "execute_result"
    }
   ],
   "source": [
    "final_df.head()"
   ]
  },
  {
   "cell_type": "code",
   "execution_count": 116,
   "id": "08168a2c",
   "metadata": {},
   "outputs": [
    {
     "data": {
      "text/plain": [
       "1    15463\n",
       "2      809\n",
       "0      440\n",
       "Name: new_col, dtype: int64"
      ]
     },
     "execution_count": 116,
     "metadata": {},
     "output_type": "execute_result"
    }
   ],
   "source": [
    "final_df['new_col'].value_counts()"
   ]
  },
  {
   "cell_type": "code",
   "execution_count": 48,
   "id": "6d92e618",
   "metadata": {},
   "outputs": [],
   "source": [
    "final_df.new_col=final_df.new_col.map({'negative':0,'neutral':1,'positive':2}).astype(int)"
   ]
  },
  {
   "cell_type": "code",
   "execution_count": 49,
   "id": "22272223",
   "metadata": {},
   "outputs": [
    {
     "data": {
      "text/plain": [
       "dtype('int32')"
      ]
     },
     "execution_count": 49,
     "metadata": {},
     "output_type": "execute_result"
    }
   ],
   "source": [
    "final_df['new_col'].dtypes"
   ]
  },
  {
   "cell_type": "code",
   "execution_count": 50,
   "id": "174f6f9e",
   "metadata": {},
   "outputs": [
    {
     "data": {
      "text/plain": [
       "0.000    8361\n",
       "0.167      53\n",
       "0.231      49\n",
       "0.333      45\n",
       "0.259      43\n",
       "         ... \n",
       "0.714       1\n",
       "0.640       1\n",
       "0.554       1\n",
       "0.488       1\n",
       "0.587       1\n",
       "Name: negative, Length: 599, dtype: int64"
      ]
     },
     "execution_count": 50,
     "metadata": {},
     "output_type": "execute_result"
    }
   ],
   "source": [
    "final_df['negative'].value_counts()"
   ]
  },
  {
   "cell_type": "code",
   "execution_count": 51,
   "id": "a0cb4ed7",
   "metadata": {},
   "outputs": [],
   "source": [
    "y=final_df['new_col']\n",
    "x=final_df['Tweets']"
   ]
  },
  {
   "cell_type": "code",
   "execution_count": 52,
   "id": "2a47a705",
   "metadata": {},
   "outputs": [
    {
     "name": "stdout",
     "output_type": "stream",
     "text": [
      "<class 'pandas.core.series.Series'>\n",
      "<class 'pandas.core.series.Series'>\n"
     ]
    }
   ],
   "source": [
    "print(type(x))\n",
    "print(type(y))"
   ]
  },
  {
   "cell_type": "code",
   "execution_count": 53,
   "id": "cf001d8c",
   "metadata": {},
   "outputs": [],
   "source": [
    "X=pd.DataFrame(x)\n",
    "Y=pd.DataFrame(y)"
   ]
  },
  {
   "cell_type": "code",
   "execution_count": 54,
   "id": "83aa5228",
   "metadata": {},
   "outputs": [
    {
     "name": "stdout",
     "output_type": "stream",
     "text": [
      "<class 'pandas.core.frame.DataFrame'>\n",
      "<class 'pandas.core.frame.DataFrame'>\n"
     ]
    }
   ],
   "source": [
    "print(type(X))\n",
    "print(type(Y))"
   ]
  },
  {
   "cell_type": "code",
   "execution_count": 55,
   "id": "42109dab",
   "metadata": {},
   "outputs": [],
   "source": [
    "from sklearn.model_selection import train_test_split\n",
    "x_train,x_test,y_train,y_test=train_test_split(X,Y,test_size=0.25, train_size=0.75, random_state=1)\n"
   ]
  },
  {
   "cell_type": "code",
   "execution_count": 56,
   "id": "bb7256d0",
   "metadata": {},
   "outputs": [
    {
     "data": {
      "text/html": [
       "<div>\n",
       "<style scoped>\n",
       "    .dataframe tbody tr th:only-of-type {\n",
       "        vertical-align: middle;\n",
       "    }\n",
       "\n",
       "    .dataframe tbody tr th {\n",
       "        vertical-align: top;\n",
       "    }\n",
       "\n",
       "    .dataframe thead th {\n",
       "        text-align: right;\n",
       "    }\n",
       "</style>\n",
       "<table border=\"1\" class=\"dataframe\">\n",
       "  <thead>\n",
       "    <tr style=\"text-align: right;\">\n",
       "      <th></th>\n",
       "      <th>Tweets</th>\n",
       "    </tr>\n",
       "  </thead>\n",
       "  <tbody>\n",
       "    <tr>\n",
       "      <th>8960</th>\n",
       "      <td>iamkash kr zomato swiggy dominos india starbuc...</td>\n",
       "    </tr>\n",
       "    <tr>\n",
       "      <th>9950</th>\n",
       "      <td>rajeshashar swiggycares cry workshops hear tim...</td>\n",
       "    </tr>\n",
       "    <tr>\n",
       "      <th>8605</th>\n",
       "      <td>swiggy swiggycares amount deduct order place w...</td>\n",
       "    </tr>\n",
       "    <tr>\n",
       "      <th>11643</th>\n",
       "      <td>perfect time mumbai order motichoor laddoo swiggy</td>\n",
       "    </tr>\n",
       "    <tr>\n",
       "      <th>14030</th>\n",
       "      <td>swiggycares people even listen</td>\n",
       "    </tr>\n",
       "  </tbody>\n",
       "</table>\n",
       "</div>"
      ],
      "text/plain": [
       "                                                  Tweets\n",
       "8960   iamkash kr zomato swiggy dominos india starbuc...\n",
       "9950   rajeshashar swiggycares cry workshops hear tim...\n",
       "8605   swiggy swiggycares amount deduct order place w...\n",
       "11643  perfect time mumbai order motichoor laddoo swiggy\n",
       "14030                     swiggycares people even listen"
      ]
     },
     "execution_count": 56,
     "metadata": {},
     "output_type": "execute_result"
    }
   ],
   "source": [
    "x_train.head()"
   ]
  },
  {
   "cell_type": "code",
   "execution_count": 57,
   "id": "17a08131",
   "metadata": {},
   "outputs": [
    {
     "name": "stdout",
     "output_type": "stream",
     "text": [
      "(12534, 1)\n",
      "(12534, 1)\n",
      "(4178, 1)\n",
      "(4178, 1)\n"
     ]
    }
   ],
   "source": [
    "print(x_train.shape)\n",
    "print(y_train.shape)\n",
    "print(x_test.shape)\n",
    "print(y_test.shape)"
   ]
  },
  {
   "cell_type": "code",
   "execution_count": 58,
   "id": "cf6b3fe2",
   "metadata": {},
   "outputs": [
    {
     "data": {
      "text/html": [
       "<div>\n",
       "<style scoped>\n",
       "    .dataframe tbody tr th:only-of-type {\n",
       "        vertical-align: middle;\n",
       "    }\n",
       "\n",
       "    .dataframe tbody tr th {\n",
       "        vertical-align: top;\n",
       "    }\n",
       "\n",
       "    .dataframe thead th {\n",
       "        text-align: right;\n",
       "    }\n",
       "</style>\n",
       "<table border=\"1\" class=\"dataframe\">\n",
       "  <thead>\n",
       "    <tr style=\"text-align: right;\">\n",
       "      <th></th>\n",
       "      <th>Tweets</th>\n",
       "    </tr>\n",
       "  </thead>\n",
       "  <tbody>\n",
       "    <tr>\n",
       "      <th>8960</th>\n",
       "      <td>iamkash kr zomato swiggy dominos india starbuc...</td>\n",
       "    </tr>\n",
       "    <tr>\n",
       "      <th>9950</th>\n",
       "      <td>rajeshashar swiggycares cry workshops hear tim...</td>\n",
       "    </tr>\n",
       "    <tr>\n",
       "      <th>8605</th>\n",
       "      <td>swiggy swiggycares amount deduct order place w...</td>\n",
       "    </tr>\n",
       "    <tr>\n",
       "      <th>11643</th>\n",
       "      <td>perfect time mumbai order motichoor laddoo swiggy</td>\n",
       "    </tr>\n",
       "    <tr>\n",
       "      <th>14030</th>\n",
       "      <td>swiggycares people even listen</td>\n",
       "    </tr>\n",
       "  </tbody>\n",
       "</table>\n",
       "</div>"
      ],
      "text/plain": [
       "                                                  Tweets\n",
       "8960   iamkash kr zomato swiggy dominos india starbuc...\n",
       "9950   rajeshashar swiggycares cry workshops hear tim...\n",
       "8605   swiggy swiggycares amount deduct order place w...\n",
       "11643  perfect time mumbai order motichoor laddoo swiggy\n",
       "14030                     swiggycares people even listen"
      ]
     },
     "execution_count": 58,
     "metadata": {},
     "output_type": "execute_result"
    }
   ],
   "source": [
    "x_train.head()"
   ]
  },
  {
   "cell_type": "code",
   "execution_count": 59,
   "id": "2befc2d6",
   "metadata": {},
   "outputs": [
    {
     "data": {
      "text/html": [
       "<div>\n",
       "<style scoped>\n",
       "    .dataframe tbody tr th:only-of-type {\n",
       "        vertical-align: middle;\n",
       "    }\n",
       "\n",
       "    .dataframe tbody tr th {\n",
       "        vertical-align: top;\n",
       "    }\n",
       "\n",
       "    .dataframe thead th {\n",
       "        text-align: right;\n",
       "    }\n",
       "</style>\n",
       "<table border=\"1\" class=\"dataframe\">\n",
       "  <thead>\n",
       "    <tr style=\"text-align: right;\">\n",
       "      <th></th>\n",
       "      <th>new_col</th>\n",
       "    </tr>\n",
       "  </thead>\n",
       "  <tbody>\n",
       "    <tr>\n",
       "      <th>15196</th>\n",
       "      <td>1</td>\n",
       "    </tr>\n",
       "    <tr>\n",
       "      <th>14040</th>\n",
       "      <td>1</td>\n",
       "    </tr>\n",
       "    <tr>\n",
       "      <th>4108</th>\n",
       "      <td>1</td>\n",
       "    </tr>\n",
       "    <tr>\n",
       "      <th>22</th>\n",
       "      <td>1</td>\n",
       "    </tr>\n",
       "    <tr>\n",
       "      <th>110</th>\n",
       "      <td>1</td>\n",
       "    </tr>\n",
       "  </tbody>\n",
       "</table>\n",
       "</div>"
      ],
      "text/plain": [
       "       new_col\n",
       "15196        1\n",
       "14040        1\n",
       "4108         1\n",
       "22           1\n",
       "110          1"
      ]
     },
     "execution_count": 59,
     "metadata": {},
     "output_type": "execute_result"
    }
   ],
   "source": [
    "y_test.head()"
   ]
  },
  {
   "cell_type": "code",
   "execution_count": 60,
   "id": "18058d2a",
   "metadata": {},
   "outputs": [],
   "source": [
    "text_train = x_train.Tweets.to_list()\n",
    "token = Tokenizer()\n",
    "token.fit_on_texts(text_train)"
   ]
  },
  {
   "cell_type": "code",
   "execution_count": 61,
   "id": "39edb669",
   "metadata": {},
   "outputs": [],
   "source": [
    "encoded_text=token.texts_to_sequences(text_train)"
   ]
  },
  {
   "cell_type": "code",
   "execution_count": 62,
   "id": "15dbbadd",
   "metadata": {},
   "outputs": [
    {
     "data": {
      "text/plain": [
       "array([[    0,     0,     0, ...,    52,  1321,  2892],\n",
       "       [    0,     0,     0, ...,   414,   632,   232],\n",
       "       [    0,     0,     0, ...,  1734,    14,     1],\n",
       "       ...,\n",
       "       [    0,     0,     0, ...,    26,   515, 17541],\n",
       "       [    0,     0,     0, ...,   311,    32,   260],\n",
       "       [    0,     0,     0, ..., 17547, 17548,  4399]])"
      ]
     },
     "execution_count": 62,
     "metadata": {},
     "output_type": "execute_result"
    }
   ],
   "source": [
    "max_length=200\n",
    "x_text_train=sequence.pad_sequences(encoded_text,maxlen=max_length,padding='pre')\n",
    "x_text_train"
   ]
  },
  {
   "cell_type": "code",
   "execution_count": 63,
   "id": "f72d0c69",
   "metadata": {},
   "outputs": [
    {
     "data": {
      "text/plain": [
       "(12534, 200)"
      ]
     },
     "execution_count": 63,
     "metadata": {},
     "output_type": "execute_result"
    }
   ],
   "source": [
    "\n",
    "x_text_train.shape"
   ]
  },
  {
   "cell_type": "code",
   "execution_count": 64,
   "id": "fe0f9087",
   "metadata": {},
   "outputs": [],
   "source": [
    "text_test= x_test.Tweets.to_list()\n",
    "token = Tokenizer()\n",
    "token.fit_on_texts(text_test)"
   ]
  },
  {
   "cell_type": "code",
   "execution_count": 65,
   "id": "61dfb452",
   "metadata": {},
   "outputs": [],
   "source": [
    "encoded_text1=token.texts_to_sequences(text_test)"
   ]
  },
  {
   "cell_type": "code",
   "execution_count": 66,
   "id": "aed1e991",
   "metadata": {},
   "outputs": [
    {
     "data": {
      "text/plain": [
       "array([[   0,    0,    0, ...,    4,    5, 3231],\n",
       "       [   0,    0,    0, ...,  805,  364,  138],\n",
       "       [   0,    0,    0, ...,  141,  806,  745],\n",
       "       ...,\n",
       "       [   0,    0,    0, ..., 8626,   30,  184],\n",
       "       [   0,    0,    0, ...,  466, 1703,   84],\n",
       "       [   0,    0,    0, ...,   31,   44,    3]])"
      ]
     },
     "execution_count": 66,
     "metadata": {},
     "output_type": "execute_result"
    }
   ],
   "source": [
    "max_length=200\n",
    "x_text_test=sequence.pad_sequences(encoded_text1,maxlen=max_length,padding='pre')\n",
    "x_text_test"
   ]
  },
  {
   "cell_type": "code",
   "execution_count": 67,
   "id": "e8a62519",
   "metadata": {},
   "outputs": [
    {
     "data": {
      "text/plain": [
       "(4178, 200)"
      ]
     },
     "execution_count": 67,
     "metadata": {},
     "output_type": "execute_result"
    }
   ],
   "source": [
    "x_text_test.shape"
   ]
  },
  {
   "cell_type": "code",
   "execution_count": 68,
   "id": "3651c2a3",
   "metadata": {},
   "outputs": [
    {
     "data": {
      "text/html": [
       "<div>\n",
       "<style scoped>\n",
       "    .dataframe tbody tr th:only-of-type {\n",
       "        vertical-align: middle;\n",
       "    }\n",
       "\n",
       "    .dataframe tbody tr th {\n",
       "        vertical-align: top;\n",
       "    }\n",
       "\n",
       "    .dataframe thead th {\n",
       "        text-align: right;\n",
       "    }\n",
       "</style>\n",
       "<table border=\"1\" class=\"dataframe\">\n",
       "  <thead>\n",
       "    <tr style=\"text-align: right;\">\n",
       "      <th></th>\n",
       "      <th>new_col</th>\n",
       "    </tr>\n",
       "  </thead>\n",
       "  <tbody>\n",
       "    <tr>\n",
       "      <th>8960</th>\n",
       "      <td>1</td>\n",
       "    </tr>\n",
       "    <tr>\n",
       "      <th>9950</th>\n",
       "      <td>1</td>\n",
       "    </tr>\n",
       "    <tr>\n",
       "      <th>8605</th>\n",
       "      <td>1</td>\n",
       "    </tr>\n",
       "    <tr>\n",
       "      <th>11643</th>\n",
       "      <td>1</td>\n",
       "    </tr>\n",
       "    <tr>\n",
       "      <th>14030</th>\n",
       "      <td>1</td>\n",
       "    </tr>\n",
       "  </tbody>\n",
       "</table>\n",
       "</div>"
      ],
      "text/plain": [
       "       new_col\n",
       "8960         1\n",
       "9950         1\n",
       "8605         1\n",
       "11643        1\n",
       "14030        1"
      ]
     },
     "execution_count": 68,
     "metadata": {},
     "output_type": "execute_result"
    }
   ],
   "source": [
    "y_train.head()"
   ]
  },
  {
   "cell_type": "code",
   "execution_count": 69,
   "id": "da662be1",
   "metadata": {},
   "outputs": [
    {
     "data": {
      "text/plain": [
       "1    11595\n",
       "2      613\n",
       "0      326\n",
       "Name: new_col, dtype: int64"
      ]
     },
     "execution_count": 69,
     "metadata": {},
     "output_type": "execute_result"
    }
   ],
   "source": [
    "y_train['new_col'].value_counts()"
   ]
  },
  {
   "cell_type": "markdown",
   "id": "b0f34bb3",
   "metadata": {},
   "source": [
    "## naive bayes"
   ]
  },
  {
   "cell_type": "code",
   "execution_count": 70,
   "id": "c10fa0e2",
   "metadata": {},
   "outputs": [
    {
     "name": "stderr",
     "output_type": "stream",
     "text": [
      "C:\\Users\\prana\\anaconda3\\lib\\site-packages\\sklearn\\utils\\validation.py:1111: DataConversionWarning: A column-vector y was passed when a 1d array was expected. Please change the shape of y to (n_samples, ), for example using ravel().\n",
      "  y = column_or_1d(y, warn=True)\n"
     ]
    },
    {
     "data": {
      "text/html": [
       "<style>#sk-container-id-1 {color: black;background-color: white;}#sk-container-id-1 pre{padding: 0;}#sk-container-id-1 div.sk-toggleable {background-color: white;}#sk-container-id-1 label.sk-toggleable__label {cursor: pointer;display: block;width: 100%;margin-bottom: 0;padding: 0.3em;box-sizing: border-box;text-align: center;}#sk-container-id-1 label.sk-toggleable__label-arrow:before {content: \"▸\";float: left;margin-right: 0.25em;color: #696969;}#sk-container-id-1 label.sk-toggleable__label-arrow:hover:before {color: black;}#sk-container-id-1 div.sk-estimator:hover label.sk-toggleable__label-arrow:before {color: black;}#sk-container-id-1 div.sk-toggleable__content {max-height: 0;max-width: 0;overflow: hidden;text-align: left;background-color: #f0f8ff;}#sk-container-id-1 div.sk-toggleable__content pre {margin: 0.2em;color: black;border-radius: 0.25em;background-color: #f0f8ff;}#sk-container-id-1 input.sk-toggleable__control:checked~div.sk-toggleable__content {max-height: 200px;max-width: 100%;overflow: auto;}#sk-container-id-1 input.sk-toggleable__control:checked~label.sk-toggleable__label-arrow:before {content: \"▾\";}#sk-container-id-1 div.sk-estimator input.sk-toggleable__control:checked~label.sk-toggleable__label {background-color: #d4ebff;}#sk-container-id-1 div.sk-label input.sk-toggleable__control:checked~label.sk-toggleable__label {background-color: #d4ebff;}#sk-container-id-1 input.sk-hidden--visually {border: 0;clip: rect(1px 1px 1px 1px);clip: rect(1px, 1px, 1px, 1px);height: 1px;margin: -1px;overflow: hidden;padding: 0;position: absolute;width: 1px;}#sk-container-id-1 div.sk-estimator {font-family: monospace;background-color: #f0f8ff;border: 1px dotted black;border-radius: 0.25em;box-sizing: border-box;margin-bottom: 0.5em;}#sk-container-id-1 div.sk-estimator:hover {background-color: #d4ebff;}#sk-container-id-1 div.sk-parallel-item::after {content: \"\";width: 100%;border-bottom: 1px solid gray;flex-grow: 1;}#sk-container-id-1 div.sk-label:hover label.sk-toggleable__label {background-color: #d4ebff;}#sk-container-id-1 div.sk-serial::before {content: \"\";position: absolute;border-left: 1px solid gray;box-sizing: border-box;top: 0;bottom: 0;left: 50%;z-index: 0;}#sk-container-id-1 div.sk-serial {display: flex;flex-direction: column;align-items: center;background-color: white;padding-right: 0.2em;padding-left: 0.2em;position: relative;}#sk-container-id-1 div.sk-item {position: relative;z-index: 1;}#sk-container-id-1 div.sk-parallel {display: flex;align-items: stretch;justify-content: center;background-color: white;position: relative;}#sk-container-id-1 div.sk-item::before, #sk-container-id-1 div.sk-parallel-item::before {content: \"\";position: absolute;border-left: 1px solid gray;box-sizing: border-box;top: 0;bottom: 0;left: 50%;z-index: -1;}#sk-container-id-1 div.sk-parallel-item {display: flex;flex-direction: column;z-index: 1;position: relative;background-color: white;}#sk-container-id-1 div.sk-parallel-item:first-child::after {align-self: flex-end;width: 50%;}#sk-container-id-1 div.sk-parallel-item:last-child::after {align-self: flex-start;width: 50%;}#sk-container-id-1 div.sk-parallel-item:only-child::after {width: 0;}#sk-container-id-1 div.sk-dashed-wrapped {border: 1px dashed gray;margin: 0 0.4em 0.5em 0.4em;box-sizing: border-box;padding-bottom: 0.4em;background-color: white;}#sk-container-id-1 div.sk-label label {font-family: monospace;font-weight: bold;display: inline-block;line-height: 1.2em;}#sk-container-id-1 div.sk-label-container {text-align: center;}#sk-container-id-1 div.sk-container {/* jupyter's `normalize.less` sets `[hidden] { display: none; }` but bootstrap.min.css set `[hidden] { display: none !important; }` so we also need the `!important` here to be able to override the default hidden behavior on the sphinx rendered scikit-learn.org. See: https://github.com/scikit-learn/scikit-learn/issues/21755 */display: inline-block !important;position: relative;}#sk-container-id-1 div.sk-text-repr-fallback {display: none;}</style><div id=\"sk-container-id-1\" class=\"sk-top-container\"><div class=\"sk-text-repr-fallback\"><pre>MultinomialNB()</pre><b>In a Jupyter environment, please rerun this cell to show the HTML representation or trust the notebook. <br />On GitHub, the HTML representation is unable to render, please try loading this page with nbviewer.org.</b></div><div class=\"sk-container\" hidden><div class=\"sk-item\"><div class=\"sk-estimator sk-toggleable\"><input class=\"sk-toggleable__control sk-hidden--visually\" id=\"sk-estimator-id-1\" type=\"checkbox\" checked><label for=\"sk-estimator-id-1\" class=\"sk-toggleable__label sk-toggleable__label-arrow\">MultinomialNB</label><div class=\"sk-toggleable__content\"><pre>MultinomialNB()</pre></div></div></div></div></div>"
      ],
      "text/plain": [
       "MultinomialNB()"
      ]
     },
     "execution_count": 70,
     "metadata": {},
     "output_type": "execute_result"
    }
   ],
   "source": [
    "from sklearn.naive_bayes import MultinomialNB\n",
    "\n",
    "nb_model = MultinomialNB()\n",
    "nb_model.fit(x_text_train, y_train)"
   ]
  },
  {
   "cell_type": "code",
   "execution_count": 71,
   "id": "619190ae",
   "metadata": {},
   "outputs": [
    {
     "data": {
      "text/plain": [
       "new_col    int32\n",
       "dtype: object"
      ]
     },
     "execution_count": 71,
     "metadata": {},
     "output_type": "execute_result"
    }
   ],
   "source": [
    "y_train.dtypes"
   ]
  },
  {
   "cell_type": "code",
   "execution_count": 72,
   "id": "ef144631",
   "metadata": {},
   "outputs": [],
   "source": [
    "ypred_nb = nb_model.predict(x_text_test)"
   ]
  },
  {
   "cell_type": "code",
   "execution_count": 73,
   "id": "f2d02855",
   "metadata": {},
   "outputs": [],
   "source": [
    "from sklearn import metrics\n",
    "from sklearn.metrics import classification_report"
   ]
  },
  {
   "cell_type": "code",
   "execution_count": 74,
   "id": "59664f72",
   "metadata": {},
   "outputs": [
    {
     "data": {
      "text/plain": [
       "0.3774533269506941"
      ]
     },
     "execution_count": 74,
     "metadata": {},
     "output_type": "execute_result"
    }
   ],
   "source": [
    "metrics.accuracy_score(y_test,ypred_nb)"
   ]
  },
  {
   "cell_type": "code",
   "execution_count": 75,
   "id": "2f432042",
   "metadata": {},
   "outputs": [
    {
     "name": "stdout",
     "output_type": "stream",
     "text": [
      "              precision    recall  f1-score   support\n",
      "\n",
      "           0       0.03      0.41      0.06       114\n",
      "           1       0.98      0.38      0.54      3868\n",
      "           2       0.06      0.36      0.10       196\n",
      "\n",
      "    accuracy                           0.38      4178\n",
      "   macro avg       0.36      0.38      0.23      4178\n",
      "weighted avg       0.91      0.38      0.51      4178\n",
      "\n"
     ]
    }
   ],
   "source": [
    "print(classification_report(y_test, ypred_nb))"
   ]
  },
  {
   "cell_type": "code",
   "execution_count": 76,
   "id": "8cdae58b",
   "metadata": {},
   "outputs": [
    {
     "data": {
      "text/plain": [
       "array([0, 1, 2])"
      ]
     },
     "execution_count": 76,
     "metadata": {},
     "output_type": "execute_result"
    }
   ],
   "source": [
    "np.unique(ypred_nb)"
   ]
  },
  {
   "cell_type": "code",
   "execution_count": 77,
   "id": "735939b9",
   "metadata": {},
   "outputs": [
    {
     "data": {
      "text/plain": [
       "array([0, 1, 2])"
      ]
     },
     "execution_count": 77,
     "metadata": {},
     "output_type": "execute_result"
    }
   ],
   "source": [
    "np.unique(y_test)"
   ]
  },
  {
   "cell_type": "code",
   "execution_count": 78,
   "id": "e750f988",
   "metadata": {},
   "outputs": [
    {
     "data": {
      "text/plain": [
       "new_col    int32\n",
       "dtype: object"
      ]
     },
     "execution_count": 78,
     "metadata": {},
     "output_type": "execute_result"
    }
   ],
   "source": [
    "y_test.dtypes"
   ]
  },
  {
   "cell_type": "code",
   "execution_count": 79,
   "id": "d849aa8d",
   "metadata": {},
   "outputs": [],
   "source": [
    "from sklearn.metrics import precision_score\n",
    "from sklearn.metrics import recall_score\n",
    "from sklearn.metrics import roc_auc_score\n",
    "\n"
   ]
  },
  {
   "cell_type": "code",
   "execution_count": 80,
   "id": "3b7e7eb7",
   "metadata": {},
   "outputs": [],
   "source": [
    "y_preb_probs =nb_model.predict_proba(x_text_test)"
   ]
  },
  {
   "cell_type": "code",
   "execution_count": 81,
   "id": "e792a287",
   "metadata": {},
   "outputs": [
    {
     "data": {
      "text/plain": [
       "0.5701663480473846"
      ]
     },
     "execution_count": 81,
     "metadata": {},
     "output_type": "execute_result"
    }
   ],
   "source": [
    "roc_auc_score(y_test, y_preb_probs, average=\"weighted\", multi_class=\"ovr\" )"
   ]
  },
  {
   "cell_type": "code",
   "execution_count": 82,
   "id": "4783f8e2",
   "metadata": {},
   "outputs": [
    {
     "data": {
      "text/plain": [
       "0.0748583595236802"
      ]
     },
     "execution_count": 82,
     "metadata": {},
     "output_type": "execute_result"
    }
   ],
   "source": [
    "from sklearn.metrics import matthews_corrcoef\n",
    "\n",
    "matthews_corrcoef(y_test, ypred_nb)"
   ]
  },
  {
   "cell_type": "markdown",
   "id": "3c1f0448",
   "metadata": {},
   "source": [
    "## LogisticRegression"
   ]
  },
  {
   "cell_type": "code",
   "execution_count": 83,
   "id": "1c7bc38a",
   "metadata": {},
   "outputs": [
    {
     "name": "stderr",
     "output_type": "stream",
     "text": [
      "C:\\Users\\prana\\anaconda3\\lib\\site-packages\\sklearn\\utils\\validation.py:1111: DataConversionWarning: A column-vector y was passed when a 1d array was expected. Please change the shape of y to (n_samples, ), for example using ravel().\n",
      "  y = column_or_1d(y, warn=True)\n",
      "C:\\Users\\prana\\anaconda3\\lib\\site-packages\\sklearn\\linear_model\\_logistic.py:444: ConvergenceWarning: lbfgs failed to converge (status=1):\n",
      "STOP: TOTAL NO. of ITERATIONS REACHED LIMIT.\n",
      "\n",
      "Increase the number of iterations (max_iter) or scale the data as shown in:\n",
      "    https://scikit-learn.org/stable/modules/preprocessing.html\n",
      "Please also refer to the documentation for alternative solver options:\n",
      "    https://scikit-learn.org/stable/modules/linear_model.html#logistic-regression\n",
      "  n_iter_i = _check_optimize_result(\n"
     ]
    },
    {
     "data": {
      "text/html": [
       "<style>#sk-container-id-2 {color: black;background-color: white;}#sk-container-id-2 pre{padding: 0;}#sk-container-id-2 div.sk-toggleable {background-color: white;}#sk-container-id-2 label.sk-toggleable__label {cursor: pointer;display: block;width: 100%;margin-bottom: 0;padding: 0.3em;box-sizing: border-box;text-align: center;}#sk-container-id-2 label.sk-toggleable__label-arrow:before {content: \"▸\";float: left;margin-right: 0.25em;color: #696969;}#sk-container-id-2 label.sk-toggleable__label-arrow:hover:before {color: black;}#sk-container-id-2 div.sk-estimator:hover label.sk-toggleable__label-arrow:before {color: black;}#sk-container-id-2 div.sk-toggleable__content {max-height: 0;max-width: 0;overflow: hidden;text-align: left;background-color: #f0f8ff;}#sk-container-id-2 div.sk-toggleable__content pre {margin: 0.2em;color: black;border-radius: 0.25em;background-color: #f0f8ff;}#sk-container-id-2 input.sk-toggleable__control:checked~div.sk-toggleable__content {max-height: 200px;max-width: 100%;overflow: auto;}#sk-container-id-2 input.sk-toggleable__control:checked~label.sk-toggleable__label-arrow:before {content: \"▾\";}#sk-container-id-2 div.sk-estimator input.sk-toggleable__control:checked~label.sk-toggleable__label {background-color: #d4ebff;}#sk-container-id-2 div.sk-label input.sk-toggleable__control:checked~label.sk-toggleable__label {background-color: #d4ebff;}#sk-container-id-2 input.sk-hidden--visually {border: 0;clip: rect(1px 1px 1px 1px);clip: rect(1px, 1px, 1px, 1px);height: 1px;margin: -1px;overflow: hidden;padding: 0;position: absolute;width: 1px;}#sk-container-id-2 div.sk-estimator {font-family: monospace;background-color: #f0f8ff;border: 1px dotted black;border-radius: 0.25em;box-sizing: border-box;margin-bottom: 0.5em;}#sk-container-id-2 div.sk-estimator:hover {background-color: #d4ebff;}#sk-container-id-2 div.sk-parallel-item::after {content: \"\";width: 100%;border-bottom: 1px solid gray;flex-grow: 1;}#sk-container-id-2 div.sk-label:hover label.sk-toggleable__label {background-color: #d4ebff;}#sk-container-id-2 div.sk-serial::before {content: \"\";position: absolute;border-left: 1px solid gray;box-sizing: border-box;top: 0;bottom: 0;left: 50%;z-index: 0;}#sk-container-id-2 div.sk-serial {display: flex;flex-direction: column;align-items: center;background-color: white;padding-right: 0.2em;padding-left: 0.2em;position: relative;}#sk-container-id-2 div.sk-item {position: relative;z-index: 1;}#sk-container-id-2 div.sk-parallel {display: flex;align-items: stretch;justify-content: center;background-color: white;position: relative;}#sk-container-id-2 div.sk-item::before, #sk-container-id-2 div.sk-parallel-item::before {content: \"\";position: absolute;border-left: 1px solid gray;box-sizing: border-box;top: 0;bottom: 0;left: 50%;z-index: -1;}#sk-container-id-2 div.sk-parallel-item {display: flex;flex-direction: column;z-index: 1;position: relative;background-color: white;}#sk-container-id-2 div.sk-parallel-item:first-child::after {align-self: flex-end;width: 50%;}#sk-container-id-2 div.sk-parallel-item:last-child::after {align-self: flex-start;width: 50%;}#sk-container-id-2 div.sk-parallel-item:only-child::after {width: 0;}#sk-container-id-2 div.sk-dashed-wrapped {border: 1px dashed gray;margin: 0 0.4em 0.5em 0.4em;box-sizing: border-box;padding-bottom: 0.4em;background-color: white;}#sk-container-id-2 div.sk-label label {font-family: monospace;font-weight: bold;display: inline-block;line-height: 1.2em;}#sk-container-id-2 div.sk-label-container {text-align: center;}#sk-container-id-2 div.sk-container {/* jupyter's `normalize.less` sets `[hidden] { display: none; }` but bootstrap.min.css set `[hidden] { display: none !important; }` so we also need the `!important` here to be able to override the default hidden behavior on the sphinx rendered scikit-learn.org. See: https://github.com/scikit-learn/scikit-learn/issues/21755 */display: inline-block !important;position: relative;}#sk-container-id-2 div.sk-text-repr-fallback {display: none;}</style><div id=\"sk-container-id-2\" class=\"sk-top-container\"><div class=\"sk-text-repr-fallback\"><pre>LogisticRegression()</pre><b>In a Jupyter environment, please rerun this cell to show the HTML representation or trust the notebook. <br />On GitHub, the HTML representation is unable to render, please try loading this page with nbviewer.org.</b></div><div class=\"sk-container\" hidden><div class=\"sk-item\"><div class=\"sk-estimator sk-toggleable\"><input class=\"sk-toggleable__control sk-hidden--visually\" id=\"sk-estimator-id-2\" type=\"checkbox\" checked><label for=\"sk-estimator-id-2\" class=\"sk-toggleable__label sk-toggleable__label-arrow\">LogisticRegression</label><div class=\"sk-toggleable__content\"><pre>LogisticRegression()</pre></div></div></div></div></div>"
      ],
      "text/plain": [
       "LogisticRegression()"
      ]
     },
     "execution_count": 83,
     "metadata": {},
     "output_type": "execute_result"
    }
   ],
   "source": [
    "from sklearn.linear_model import LogisticRegression\n",
    "classifier = LogisticRegression()\n",
    "classifier.fit(x_text_train, y_train)"
   ]
  },
  {
   "cell_type": "code",
   "execution_count": 84,
   "id": "b8ffef16",
   "metadata": {},
   "outputs": [],
   "source": [
    "ypred_LR=classifier.predict(x_text_test)"
   ]
  },
  {
   "cell_type": "code",
   "execution_count": 85,
   "id": "dc349921",
   "metadata": {},
   "outputs": [
    {
     "data": {
      "text/plain": [
       "0.9258018190521781"
      ]
     },
     "execution_count": 85,
     "metadata": {},
     "output_type": "execute_result"
    }
   ],
   "source": [
    "metrics.accuracy_score(y_test,ypred_LR)"
   ]
  },
  {
   "cell_type": "code",
   "execution_count": 113,
   "id": "3d3dc342",
   "metadata": {},
   "outputs": [
    {
     "name": "stdout",
     "output_type": "stream",
     "text": [
      "[[   0  114    0]\n",
      " [   0 3868    0]\n",
      " [   0  196    0]]\n"
     ]
    }
   ],
   "source": [
    "from sklearn.metrics import confusion_matrix\n",
    "\n",
    "#Generate the confusion matrix\n",
    "cf_matrix = confusion_matrix(y_test, ypred_LR)\n",
    "\n",
    "print(cf_matrix)"
   ]
  },
  {
   "cell_type": "code",
   "execution_count": 109,
   "id": "dacae400",
   "metadata": {},
   "outputs": [
    {
     "name": "stdout",
     "output_type": "stream",
     "text": [
      "              precision    recall  f1-score   support\n",
      "\n",
      "           0       0.00      0.00      0.00       114\n",
      "           1       0.93      1.00      0.96      3868\n",
      "           2       0.00      0.00      0.00       196\n",
      "\n",
      "    accuracy                           0.93      4178\n",
      "   macro avg       0.31      0.33      0.32      4178\n",
      "weighted avg       0.86      0.93      0.89      4178\n",
      "\n"
     ]
    },
    {
     "name": "stderr",
     "output_type": "stream",
     "text": [
      "C:\\Users\\prana\\anaconda3\\lib\\site-packages\\sklearn\\metrics\\_classification.py:1334: UndefinedMetricWarning: Precision and F-score are ill-defined and being set to 0.0 in labels with no predicted samples. Use `zero_division` parameter to control this behavior.\n",
      "  _warn_prf(average, modifier, msg_start, len(result))\n",
      "C:\\Users\\prana\\anaconda3\\lib\\site-packages\\sklearn\\metrics\\_classification.py:1334: UndefinedMetricWarning: Precision and F-score are ill-defined and being set to 0.0 in labels with no predicted samples. Use `zero_division` parameter to control this behavior.\n",
      "  _warn_prf(average, modifier, msg_start, len(result))\n",
      "C:\\Users\\prana\\anaconda3\\lib\\site-packages\\sklearn\\metrics\\_classification.py:1334: UndefinedMetricWarning: Precision and F-score are ill-defined and being set to 0.0 in labels with no predicted samples. Use `zero_division` parameter to control this behavior.\n",
      "  _warn_prf(average, modifier, msg_start, len(result))\n"
     ]
    }
   ],
   "source": [
    "cr_matrix=classification_report(y_test, ypred_LR)\n",
    "print(cr_matrix)"
   ]
  },
  {
   "cell_type": "code",
   "execution_count": 115,
   "id": "93e01241",
   "metadata": {},
   "outputs": [
    {
     "data": {
      "image/png": "[encoded data removed]",
      "text/plain": [
       "<Figure size 432x288 with 2 Axes>"
      ]
     },
     "metadata": {
      "needs_background": "light"
     },
     "output_type": "display_data"
    }
   ],
   "source": [
    "import seaborn as sns\n",
    "import matplotlib.pyplot as plt\n",
    "\n",
    "ax = sns.heatmap(cf_matrix, annot=True, cmap='Blues')\n",
    "\n",
    "ax.set_title('Seaborn Confusion Matrix with labels\\n\\n');\n",
    "ax.set_xlabel('\\nPredicted ')\n",
    "ax.set_ylabel('Actual ');\n",
    "\n",
    "## Ticket labels - List must be in alphabetical order\n",
    "ax.xaxis.set_ticklabels(['0','1', '2'])\n",
    "ax.yaxis.set_ticklabels(['0','1', '2'])\n",
    "\n",
    "## Display the visualization of the Confusion Matrix.\n",
    "plt.show()\n"
   ]
  },
  {
   "cell_type": "code",
   "execution_count": 87,
   "id": "45fc0927",
   "metadata": {},
   "outputs": [
    {
     "data": {
      "text/plain": [
       "0.7579542544269215"
      ]
     },
     "execution_count": 87,
     "metadata": {},
     "output_type": "execute_result"
    }
   ],
   "source": [
    "y_preb_probs =classifier.predict_proba(x_text_test)\n",
    "roc_auc_score(y_test, y_preb_probs, average=\"weighted\", multi_class=\"ovr\" )"
   ]
  },
  {
   "cell_type": "code",
   "execution_count": 88,
   "id": "5d5c24dd",
   "metadata": {},
   "outputs": [
    {
     "data": {
      "text/plain": [
       "0.0"
      ]
     },
     "execution_count": 88,
     "metadata": {},
     "output_type": "execute_result"
    }
   ],
   "source": [
    "from sklearn.metrics import matthews_corrcoef\n",
    "\n",
    "matthews_corrcoef(y_test, ypred_LR)"
   ]
  },
  {
   "cell_type": "markdown",
   "id": "1c8a97d7",
   "metadata": {},
   "source": [
    "## RandomForest"
   ]
  },
  {
   "cell_type": "code",
   "execution_count": 89,
   "id": "2d754105",
   "metadata": {},
   "outputs": [
    {
     "name": "stderr",
     "output_type": "stream",
     "text": [
      "C:\\Users\\prana\\AppData\\Local\\Temp/ipykernel_26028/4057593989.py:3: DataConversionWarning: A column-vector y was passed when a 1d array was expected. Please change the shape of y to (n_samples,), for example using ravel().\n",
      "  classifier.fit(x_text_train, y_train)\n"
     ]
    },
    {
     "data": {
      "text/html": [
       "<style>#sk-container-id-3 {color: black;background-color: white;}#sk-container-id-3 pre{padding: 0;}#sk-container-id-3 div.sk-toggleable {background-color: white;}#sk-container-id-3 label.sk-toggleable__label {cursor: pointer;display: block;width: 100%;margin-bottom: 0;padding: 0.3em;box-sizing: border-box;text-align: center;}#sk-container-id-3 label.sk-toggleable__label-arrow:before {content: \"▸\";float: left;margin-right: 0.25em;color: #696969;}#sk-container-id-3 label.sk-toggleable__label-arrow:hover:before {color: black;}#sk-container-id-3 div.sk-estimator:hover label.sk-toggleable__label-arrow:before {color: black;}#sk-container-id-3 div.sk-toggleable__content {max-height: 0;max-width: 0;overflow: hidden;text-align: left;background-color: #f0f8ff;}#sk-container-id-3 div.sk-toggleable__content pre {margin: 0.2em;color: black;border-radius: 0.25em;background-color: #f0f8ff;}#sk-container-id-3 input.sk-toggleable__control:checked~div.sk-toggleable__content {max-height: 200px;max-width: 100%;overflow: auto;}#sk-container-id-3 input.sk-toggleable__control:checked~label.sk-toggleable__label-arrow:before {content: \"▾\";}#sk-container-id-3 div.sk-estimator input.sk-toggleable__control:checked~label.sk-toggleable__label {background-color: #d4ebff;}#sk-container-id-3 div.sk-label input.sk-toggleable__control:checked~label.sk-toggleable__label {background-color: #d4ebff;}#sk-container-id-3 input.sk-hidden--visually {border: 0;clip: rect(1px 1px 1px 1px);clip: rect(1px, 1px, 1px, 1px);height: 1px;margin: -1px;overflow: hidden;padding: 0;position: absolute;width: 1px;}#sk-container-id-3 div.sk-estimator {font-family: monospace;background-color: #f0f8ff;border: 1px dotted black;border-radius: 0.25em;box-sizing: border-box;margin-bottom: 0.5em;}#sk-container-id-3 div.sk-estimator:hover {background-color: #d4ebff;}#sk-container-id-3 div.sk-parallel-item::after {content: \"\";width: 100%;border-bottom: 1px solid gray;flex-grow: 1;}#sk-container-id-3 div.sk-label:hover label.sk-toggleable__label {background-color: #d4ebff;}#sk-container-id-3 div.sk-serial::before {content: \"\";position: absolute;border-left: 1px solid gray;box-sizing: border-box;top: 0;bottom: 0;left: 50%;z-index: 0;}#sk-container-id-3 div.sk-serial {display: flex;flex-direction: column;align-items: center;background-color: white;padding-right: 0.2em;padding-left: 0.2em;position: relative;}#sk-container-id-3 div.sk-item {position: relative;z-index: 1;}#sk-container-id-3 div.sk-parallel {display: flex;align-items: stretch;justify-content: center;background-color: white;position: relative;}#sk-container-id-3 div.sk-item::before, #sk-container-id-3 div.sk-parallel-item::before {content: \"\";position: absolute;border-left: 1px solid gray;box-sizing: border-box;top: 0;bottom: 0;left: 50%;z-index: -1;}#sk-container-id-3 div.sk-parallel-item {display: flex;flex-direction: column;z-index: 1;position: relative;background-color: white;}#sk-container-id-3 div.sk-parallel-item:first-child::after {align-self: flex-end;width: 50%;}#sk-container-id-3 div.sk-parallel-item:last-child::after {align-self: flex-start;width: 50%;}#sk-container-id-3 div.sk-parallel-item:only-child::after {width: 0;}#sk-container-id-3 div.sk-dashed-wrapped {border: 1px dashed gray;margin: 0 0.4em 0.5em 0.4em;box-sizing: border-box;padding-bottom: 0.4em;background-color: white;}#sk-container-id-3 div.sk-label label {font-family: monospace;font-weight: bold;display: inline-block;line-height: 1.2em;}#sk-container-id-3 div.sk-label-container {text-align: center;}#sk-container-id-3 div.sk-container {/* jupyter's `normalize.less` sets `[hidden] { display: none; }` but bootstrap.min.css set `[hidden] { display: none !important; }` so we also need the `!important` here to be able to override the default hidden behavior on the sphinx rendered scikit-learn.org. See: https://github.com/scikit-learn/scikit-learn/issues/21755 */display: inline-block !important;position: relative;}#sk-container-id-3 div.sk-text-repr-fallback {display: none;}</style><div id=\"sk-container-id-3\" class=\"sk-top-container\"><div class=\"sk-text-repr-fallback\"><pre>RandomForestClassifier()</pre><b>In a Jupyter environment, please rerun this cell to show the HTML representation or trust the notebook. <br />On GitHub, the HTML representation is unable to render, please try loading this page with nbviewer.org.</b></div><div class=\"sk-container\" hidden><div class=\"sk-item\"><div class=\"sk-estimator sk-toggleable\"><input class=\"sk-toggleable__control sk-hidden--visually\" id=\"sk-estimator-id-3\" type=\"checkbox\" checked><label for=\"sk-estimator-id-3\" class=\"sk-toggleable__label sk-toggleable__label-arrow\">RandomForestClassifier</label><div class=\"sk-toggleable__content\"><pre>RandomForestClassifier()</pre></div></div></div></div></div>"
      ],
      "text/plain": [
       "RandomForestClassifier()"
      ]
     },
     "execution_count": 89,
     "metadata": {},
     "output_type": "execute_result"
    }
   ],
   "source": [
    "from sklearn.ensemble import RandomForestClassifier\n",
    "classifier = RandomForestClassifier()\n",
    "classifier.fit(x_text_train, y_train)"
   ]
  },
  {
   "cell_type": "code",
   "execution_count": 90,
   "id": "bcd7bd58",
   "metadata": {},
   "outputs": [],
   "source": [
    "ypred_RF=classifier.predict(x_text_test)"
   ]
  },
  {
   "cell_type": "code",
   "execution_count": 91,
   "id": "13b79a6f",
   "metadata": {},
   "outputs": [
    {
     "data": {
      "text/plain": [
       "0.9246050741981809"
      ]
     },
     "execution_count": 91,
     "metadata": {},
     "output_type": "execute_result"
    }
   ],
   "source": [
    "metrics.accuracy_score(y_test,ypred_RF)"
   ]
  },
  {
   "cell_type": "code",
   "execution_count": 92,
   "id": "7e1a4819",
   "metadata": {},
   "outputs": [
    {
     "name": "stdout",
     "output_type": "stream",
     "text": [
      "              precision    recall  f1-score   support\n",
      "\n",
      "           0       0.29      0.04      0.06       114\n",
      "           1       0.93      0.99      0.96      3868\n",
      "           2       0.45      0.10      0.16       196\n",
      "\n",
      "    accuracy                           0.92      4178\n",
      "   macro avg       0.56      0.37      0.39      4178\n",
      "weighted avg       0.89      0.92      0.90      4178\n",
      "\n"
     ]
    }
   ],
   "source": [
    "print(classification_report(y_test, ypred_RF))"
   ]
  },
  {
   "cell_type": "code",
   "execution_count": 93,
   "id": "25219a30",
   "metadata": {},
   "outputs": [
    {
     "data": {
      "text/plain": [
       "0.7736186411112612"
      ]
     },
     "execution_count": 93,
     "metadata": {},
     "output_type": "execute_result"
    }
   ],
   "source": [
    "y_preb_probs =classifier.predict_proba(x_text_test)\n",
    "roc_auc_score(y_test, y_preb_probs, average=\"weighted\", multi_class=\"ovr\" )"
   ]
  },
  {
   "cell_type": "code",
   "execution_count": 94,
   "id": "27658055",
   "metadata": {},
   "outputs": [
    {
     "data": {
      "text/plain": [
       "0.17482050179978112"
      ]
     },
     "execution_count": 94,
     "metadata": {},
     "output_type": "execute_result"
    }
   ],
   "source": [
    "from sklearn.metrics import matthews_corrcoef\n",
    "\n",
    "matthews_corrcoef(y_test, ypred_RF)"
   ]
  },
  {
   "cell_type": "markdown",
   "id": "79eaa25b",
   "metadata": {},
   "source": [
    "## KNN"
   ]
  },
  {
   "cell_type": "code",
   "execution_count": 95,
   "id": "9f83980a",
   "metadata": {},
   "outputs": [
    {
     "name": "stderr",
     "output_type": "stream",
     "text": [
      "C:\\Users\\prana\\anaconda3\\lib\\site-packages\\sklearn\\neighbors\\_classification.py:207: DataConversionWarning: A column-vector y was passed when a 1d array was expected. Please change the shape of y to (n_samples,), for example using ravel().\n",
      "  return self._fit(X, y)\n"
     ]
    },
    {
     "data": {
      "text/html": [
       "<style>#sk-container-id-4 {color: black;background-color: white;}#sk-container-id-4 pre{padding: 0;}#sk-container-id-4 div.sk-toggleable {background-color: white;}#sk-container-id-4 label.sk-toggleable__label {cursor: pointer;display: block;width: 100%;margin-bottom: 0;padding: 0.3em;box-sizing: border-box;text-align: center;}#sk-container-id-4 label.sk-toggleable__label-arrow:before {content: \"▸\";float: left;margin-right: 0.25em;color: #696969;}#sk-container-id-4 label.sk-toggleable__label-arrow:hover:before {color: black;}#sk-container-id-4 div.sk-estimator:hover label.sk-toggleable__label-arrow:before {color: black;}#sk-container-id-4 div.sk-toggleable__content {max-height: 0;max-width: 0;overflow: hidden;text-align: left;background-color: #f0f8ff;}#sk-container-id-4 div.sk-toggleable__content pre {margin: 0.2em;color: black;border-radius: 0.25em;background-color: #f0f8ff;}#sk-container-id-4 input.sk-toggleable__control:checked~div.sk-toggleable__content {max-height: 200px;max-width: 100%;overflow: auto;}#sk-container-id-4 input.sk-toggleable__control:checked~label.sk-toggleable__label-arrow:before {content: \"▾\";}#sk-container-id-4 div.sk-estimator input.sk-toggleable__control:checked~label.sk-toggleable__label {background-color: #d4ebff;}#sk-container-id-4 div.sk-label input.sk-toggleable__control:checked~label.sk-toggleable__label {background-color: #d4ebff;}#sk-container-id-4 input.sk-hidden--visually {border: 0;clip: rect(1px 1px 1px 1px);clip: rect(1px, 1px, 1px, 1px);height: 1px;margin: -1px;overflow: hidden;padding: 0;position: absolute;width: 1px;}#sk-container-id-4 div.sk-estimator {font-family: monospace;background-color: #f0f8ff;border: 1px dotted black;border-radius: 0.25em;box-sizing: border-box;margin-bottom: 0.5em;}#sk-container-id-4 div.sk-estimator:hover {background-color: #d4ebff;}#sk-container-id-4 div.sk-parallel-item::after {content: \"\";width: 100%;border-bottom: 1px solid gray;flex-grow: 1;}#sk-container-id-4 div.sk-label:hover label.sk-toggleable__label {background-color: #d4ebff;}#sk-container-id-4 div.sk-serial::before {content: \"\";position: absolute;border-left: 1px solid gray;box-sizing: border-box;top: 0;bottom: 0;left: 50%;z-index: 0;}#sk-container-id-4 div.sk-serial {display: flex;flex-direction: column;align-items: center;background-color: white;padding-right: 0.2em;padding-left: 0.2em;position: relative;}#sk-container-id-4 div.sk-item {position: relative;z-index: 1;}#sk-container-id-4 div.sk-parallel {display: flex;align-items: stretch;justify-content: center;background-color: white;position: relative;}#sk-container-id-4 div.sk-item::before, #sk-container-id-4 div.sk-parallel-item::before {content: \"\";position: absolute;border-left: 1px solid gray;box-sizing: border-box;top: 0;bottom: 0;left: 50%;z-index: -1;}#sk-container-id-4 div.sk-parallel-item {display: flex;flex-direction: column;z-index: 1;position: relative;background-color: white;}#sk-container-id-4 div.sk-parallel-item:first-child::after {align-self: flex-end;width: 50%;}#sk-container-id-4 div.sk-parallel-item:last-child::after {align-self: flex-start;width: 50%;}#sk-container-id-4 div.sk-parallel-item:only-child::after {width: 0;}#sk-container-id-4 div.sk-dashed-wrapped {border: 1px dashed gray;margin: 0 0.4em 0.5em 0.4em;box-sizing: border-box;padding-bottom: 0.4em;background-color: white;}#sk-container-id-4 div.sk-label label {font-family: monospace;font-weight: bold;display: inline-block;line-height: 1.2em;}#sk-container-id-4 div.sk-label-container {text-align: center;}#sk-container-id-4 div.sk-container {/* jupyter's `normalize.less` sets `[hidden] { display: none; }` but bootstrap.min.css set `[hidden] { display: none !important; }` so we also need the `!important` here to be able to override the default hidden behavior on the sphinx rendered scikit-learn.org. See: https://github.com/scikit-learn/scikit-learn/issues/21755 */display: inline-block !important;position: relative;}#sk-container-id-4 div.sk-text-repr-fallback {display: none;}</style><div id=\"sk-container-id-4\" class=\"sk-top-container\"><div class=\"sk-text-repr-fallback\"><pre>KNeighborsClassifier()</pre><b>In a Jupyter environment, please rerun this cell to show the HTML representation or trust the notebook. <br />On GitHub, the HTML representation is unable to render, please try loading this page with nbviewer.org.</b></div><div class=\"sk-container\" hidden><div class=\"sk-item\"><div class=\"sk-estimator sk-toggleable\"><input class=\"sk-toggleable__control sk-hidden--visually\" id=\"sk-estimator-id-4\" type=\"checkbox\" checked><label for=\"sk-estimator-id-4\" class=\"sk-toggleable__label sk-toggleable__label-arrow\">KNeighborsClassifier</label><div class=\"sk-toggleable__content\"><pre>KNeighborsClassifier()</pre></div></div></div></div></div>"
      ],
      "text/plain": [
       "KNeighborsClassifier()"
      ]
     },
     "execution_count": 95,
     "metadata": {},
     "output_type": "execute_result"
    }
   ],
   "source": [
    "from sklearn.neighbors import KNeighborsClassifier\n",
    "classifier = KNeighborsClassifier()\n",
    "classifier.fit(x_text_train, y_train)"
   ]
  },
  {
   "cell_type": "code",
   "execution_count": 96,
   "id": "6bb0626f",
   "metadata": {},
   "outputs": [],
   "source": [
    "ypred_KNN=classifier.predict(x_text_test)"
   ]
  },
  {
   "cell_type": "code",
   "execution_count": 97,
   "id": "14cf1da7",
   "metadata": {},
   "outputs": [
    {
     "data": {
      "text/plain": [
       "0.917903303015797"
      ]
     },
     "execution_count": 97,
     "metadata": {},
     "output_type": "execute_result"
    }
   ],
   "source": [
    "metrics.accuracy_score(y_test,ypred_KNN)"
   ]
  },
  {
   "cell_type": "code",
   "execution_count": 98,
   "id": "00184779",
   "metadata": {},
   "outputs": [
    {
     "name": "stdout",
     "output_type": "stream",
     "text": [
      "              precision    recall  f1-score   support\n",
      "\n",
      "           0       0.09      0.02      0.03       114\n",
      "           1       0.93      0.99      0.96      3868\n",
      "           2       0.22      0.05      0.08       196\n",
      "\n",
      "    accuracy                           0.92      4178\n",
      "   macro avg       0.41      0.35      0.35      4178\n",
      "weighted avg       0.87      0.92      0.89      4178\n",
      "\n"
     ]
    }
   ],
   "source": [
    "print(classification_report(y_test, ypred_KNN))"
   ]
  },
  {
   "cell_type": "code",
   "execution_count": 99,
   "id": "de762177",
   "metadata": {},
   "outputs": [
    {
     "data": {
      "text/plain": [
       "0.6187533931422855"
      ]
     },
     "execution_count": 99,
     "metadata": {},
     "output_type": "execute_result"
    }
   ],
   "source": [
    "y_preb_probs =classifier.predict_proba(x_text_test)\n",
    "roc_auc_score(y_test, y_preb_probs, average=\"weighted\", multi_class=\"ovr\" )"
   ]
  },
  {
   "cell_type": "code",
   "execution_count": 100,
   "id": "505d8fa5",
   "metadata": {},
   "outputs": [
    {
     "data": {
      "text/plain": [
       "0.08450167142160951"
      ]
     },
     "execution_count": 100,
     "metadata": {},
     "output_type": "execute_result"
    }
   ],
   "source": [
    "from sklearn.metrics import matthews_corrcoef\n",
    "\n",
    "matthews_corrcoef(y_test, ypred_KNN)"
   ]
  },
  {
   "cell_type": "markdown",
   "id": "f9f51ad2",
   "metadata": {},
   "source": [
    "## DecisionTree"
   ]
  },
  {
   "cell_type": "code",
   "execution_count": 101,
   "id": "268792be",
   "metadata": {},
   "outputs": [
    {
     "data": {
      "text/html": [
       "<style>#sk-container-id-5 {color: black;background-color: white;}#sk-container-id-5 pre{padding: 0;}#sk-container-id-5 div.sk-toggleable {background-color: white;}#sk-container-id-5 label.sk-toggleable__label {cursor: pointer;display: block;width: 100%;margin-bottom: 0;padding: 0.3em;box-sizing: border-box;text-align: center;}#sk-container-id-5 label.sk-toggleable__label-arrow:before {content: \"▸\";float: left;margin-right: 0.25em;color: #696969;}#sk-container-id-5 label.sk-toggleable__label-arrow:hover:before {color: black;}#sk-container-id-5 div.sk-estimator:hover label.sk-toggleable__label-arrow:before {color: black;}#sk-container-id-5 div.sk-toggleable__content {max-height: 0;max-width: 0;overflow: hidden;text-align: left;background-color: #f0f8ff;}#sk-container-id-5 div.sk-toggleable__content pre {margin: 0.2em;color: black;border-radius: 0.25em;background-color: #f0f8ff;}#sk-container-id-5 input.sk-toggleable__control:checked~div.sk-toggleable__content {max-height: 200px;max-width: 100%;overflow: auto;}#sk-container-id-5 input.sk-toggleable__control:checked~label.sk-toggleable__label-arrow:before {content: \"▾\";}#sk-container-id-5 div.sk-estimator input.sk-toggleable__control:checked~label.sk-toggleable__label {background-color: #d4ebff;}#sk-container-id-5 div.sk-label input.sk-toggleable__control:checked~label.sk-toggleable__label {background-color: #d4ebff;}#sk-container-id-5 input.sk-hidden--visually {border: 0;clip: rect(1px 1px 1px 1px);clip: rect(1px, 1px, 1px, 1px);height: 1px;margin: -1px;overflow: hidden;padding: 0;position: absolute;width: 1px;}#sk-container-id-5 div.sk-estimator {font-family: monospace;background-color: #f0f8ff;border: 1px dotted black;border-radius: 0.25em;box-sizing: border-box;margin-bottom: 0.5em;}#sk-container-id-5 div.sk-estimator:hover {background-color: #d4ebff;}#sk-container-id-5 div.sk-parallel-item::after {content: \"\";width: 100%;border-bottom: 1px solid gray;flex-grow: 1;}#sk-container-id-5 div.sk-label:hover label.sk-toggleable__label {background-color: #d4ebff;}#sk-container-id-5 div.sk-serial::before {content: \"\";position: absolute;border-left: 1px solid gray;box-sizing: border-box;top: 0;bottom: 0;left: 50%;z-index: 0;}#sk-container-id-5 div.sk-serial {display: flex;flex-direction: column;align-items: center;background-color: white;padding-right: 0.2em;padding-left: 0.2em;position: relative;}#sk-container-id-5 div.sk-item {position: relative;z-index: 1;}#sk-container-id-5 div.sk-parallel {display: flex;align-items: stretch;justify-content: center;background-color: white;position: relative;}#sk-container-id-5 div.sk-item::before, #sk-container-id-5 div.sk-parallel-item::before {content: \"\";position: absolute;border-left: 1px solid gray;box-sizing: border-box;top: 0;bottom: 0;left: 50%;z-index: -1;}#sk-container-id-5 div.sk-parallel-item {display: flex;flex-direction: column;z-index: 1;position: relative;background-color: white;}#sk-container-id-5 div.sk-parallel-item:first-child::after {align-self: flex-end;width: 50%;}#sk-container-id-5 div.sk-parallel-item:last-child::after {align-self: flex-start;width: 50%;}#sk-container-id-5 div.sk-parallel-item:only-child::after {width: 0;}#sk-container-id-5 div.sk-dashed-wrapped {border: 1px dashed gray;margin: 0 0.4em 0.5em 0.4em;box-sizing: border-box;padding-bottom: 0.4em;background-color: white;}#sk-container-id-5 div.sk-label label {font-family: monospace;font-weight: bold;display: inline-block;line-height: 1.2em;}#sk-container-id-5 div.sk-label-container {text-align: center;}#sk-container-id-5 div.sk-container {/* jupyter's `normalize.less` sets `[hidden] { display: none; }` but bootstrap.min.css set `[hidden] { display: none !important; }` so we also need the `!important` here to be able to override the default hidden behavior on the sphinx rendered scikit-learn.org. See: https://github.com/scikit-learn/scikit-learn/issues/21755 */display: inline-block !important;position: relative;}#sk-container-id-5 div.sk-text-repr-fallback {display: none;}</style><div id=\"sk-container-id-5\" class=\"sk-top-container\"><div class=\"sk-text-repr-fallback\"><pre>DecisionTreeClassifier()</pre><b>In a Jupyter environment, please rerun this cell to show the HTML representation or trust the notebook. <br />On GitHub, the HTML representation is unable to render, please try loading this page with nbviewer.org.</b></div><div class=\"sk-container\" hidden><div class=\"sk-item\"><div class=\"sk-estimator sk-toggleable\"><input class=\"sk-toggleable__control sk-hidden--visually\" id=\"sk-estimator-id-5\" type=\"checkbox\" checked><label for=\"sk-estimator-id-5\" class=\"sk-toggleable__label sk-toggleable__label-arrow\">DecisionTreeClassifier</label><div class=\"sk-toggleable__content\"><pre>DecisionTreeClassifier()</pre></div></div></div></div></div>"
      ],
      "text/plain": [
       "DecisionTreeClassifier()"
      ]
     },
     "execution_count": 101,
     "metadata": {},
     "output_type": "execute_result"
    }
   ],
   "source": [
    "from sklearn.tree import DecisionTreeClassifier\n",
    "classifier = DecisionTreeClassifier()\n",
    "classifier.fit(x_text_train, y_train)"
   ]
  },
  {
   "cell_type": "code",
   "execution_count": 102,
   "id": "9edbdd3b",
   "metadata": {},
   "outputs": [
    {
     "data": {
      "text/plain": [
       "0.8681187170895165"
      ]
     },
     "execution_count": 102,
     "metadata": {},
     "output_type": "execute_result"
    }
   ],
   "source": [
    "ypred_DT=classifier.predict(x_text_test)\n",
    "metrics.accuracy_score(y_test,ypred_DT)"
   ]
  },
  {
   "cell_type": "code",
   "execution_count": 103,
   "id": "857843a3",
   "metadata": {},
   "outputs": [
    {
     "data": {
      "text/plain": [
       "0.5216666666666666"
      ]
     },
     "execution_count": 103,
     "metadata": {},
     "output_type": "execute_result"
    }
   ],
   "source": [
    "(0.08+0.26+3*0.93)/6"
   ]
  },
  {
   "cell_type": "code",
   "execution_count": 104,
   "id": "5e48a83f",
   "metadata": {},
   "outputs": [
    {
     "name": "stdout",
     "output_type": "stream",
     "text": [
      "              precision    recall  f1-score   support\n",
      "\n",
      "           0       0.10      0.10      0.10       114\n",
      "           1       0.93      0.93      0.93      3868\n",
      "           2       0.14      0.16      0.15       196\n",
      "\n",
      "    accuracy                           0.87      4178\n",
      "   macro avg       0.39      0.40      0.39      4178\n",
      "weighted avg       0.87      0.87      0.87      4178\n",
      "\n"
     ]
    }
   ],
   "source": [
    "print(classification_report(y_test, ypred_DT))"
   ]
  },
  {
   "cell_type": "code",
   "execution_count": 105,
   "id": "b6c30823",
   "metadata": {},
   "outputs": [
    {
     "data": {
      "text/plain": [
       "0.5562603275413733"
      ]
     },
     "execution_count": 105,
     "metadata": {},
     "output_type": "execute_result"
    }
   ],
   "source": [
    "y_preb_probs =classifier.predict_proba(x_text_test)\n",
    "roc_auc_score(y_test, y_preb_probs, average=\"weighted\", multi_class=\"ovr\" )"
   ]
  },
  {
   "cell_type": "code",
   "execution_count": 106,
   "id": "09718269",
   "metadata": {},
   "outputs": [
    {
     "data": {
      "text/plain": [
       "0.10096405674215736"
      ]
     },
     "execution_count": 106,
     "metadata": {},
     "output_type": "execute_result"
    }
   ],
   "source": [
    "from sklearn.metrics import matthews_corrcoef\n",
    "\n",
    "matthews_corrcoef(y_test, ypred_DT)"
   ]
  },
  {
   "cell_type": "markdown",
   "id": "6bad86ce",
   "metadata": {},
   "source": [
    "## plotting the accuracy scores"
   ]
  },
  {
   "cell_type": "code",
   "execution_count": 107,
   "id": "7aeb3aa9",
   "metadata": {},
   "outputs": [
    {
     "data": {
      "text/html": [
       "<div>\n",
       "<style scoped>\n",
       "    .dataframe tbody tr th:only-of-type {\n",
       "        vertical-align: middle;\n",
       "    }\n",
       "\n",
       "    .dataframe tbody tr th {\n",
       "        vertical-align: top;\n",
       "    }\n",
       "\n",
       "    .dataframe thead th {\n",
       "        text-align: right;\n",
       "    }\n",
       "</style>\n",
       "<table border=\"1\" class=\"dataframe\">\n",
       "  <thead>\n",
       "    <tr style=\"text-align: right;\">\n",
       "      <th></th>\n",
       "      <th>Algorithms</th>\n",
       "      <th>prediction_percentage</th>\n",
       "    </tr>\n",
       "  </thead>\n",
       "  <tbody>\n",
       "    <tr>\n",
       "      <th>0</th>\n",
       "      <td>naive bayes</td>\n",
       "      <td>37.7</td>\n",
       "    </tr>\n",
       "    <tr>\n",
       "      <th>1</th>\n",
       "      <td>LogisticRegression</td>\n",
       "      <td>92.5</td>\n",
       "    </tr>\n",
       "    <tr>\n",
       "      <th>2</th>\n",
       "      <td>RandomForest</td>\n",
       "      <td>92.5</td>\n",
       "    </tr>\n",
       "    <tr>\n",
       "      <th>3</th>\n",
       "      <td>KNN</td>\n",
       "      <td>91.7</td>\n",
       "    </tr>\n",
       "    <tr>\n",
       "      <th>4</th>\n",
       "      <td>DecisionTree</td>\n",
       "      <td>86.6</td>\n",
       "    </tr>\n",
       "  </tbody>\n",
       "</table>\n",
       "</div>"
      ],
      "text/plain": [
       "           Algorithms  prediction_percentage\n",
       "0         naive bayes                   37.7\n",
       "1  LogisticRegression                   92.5\n",
       "2        RandomForest                   92.5\n",
       "3                 KNN                   91.7\n",
       "4        DecisionTree                   86.6"
      ]
     },
     "execution_count": 107,
     "metadata": {},
     "output_type": "execute_result"
    }
   ],
   "source": [
    "import matplotlib.pyplot as plt\n",
    "data={\"Algorithms\":['naive bayes','LogisticRegression','RandomForest','KNN','DecisionTree'],\n",
    "      \"prediction_percentage\":[37.7,92.5,92.5,91.7,86.6]}\n",
    "data_=pd.DataFrame(data)\n",
    "data_"
   ]
  },
  {
   "cell_type": "code",
   "execution_count": 108,
   "id": "678d65f6",
   "metadata": {},
   "outputs": [
    {
     "data": {
      "image/png": "[encoded data removed]",
      "text/plain": [
       "<Figure size 432x288 with 1 Axes>"
      ]
     },
     "metadata": {
      "needs_background": "light"
     },
     "output_type": "display_data"
    }
   ],
   "source": [
    "plt.plot(data_['Algorithms'],data_['prediction_percentage'])\n",
    "plt.xticks(rotation=90);"
   ]
  },
  {
   "cell_type": "code",
   "execution_count": null,
   "id": "a1065b04",
   "metadata": {},
   "outputs": [],
   "source": []
  }
 ],
 "metadata": {
  "kernelspec": {
   "display_name": "Python 3 (ipykernel)",
   "language": "python",
   "name": "python3"
  },
  "language_info": {
   "codemirror_mode": {
    "name": "ipython",
    "version": 3
   },
   "file_extension": ".py",
   "mimetype": "text/x-python",
   "name": "python",
   "nbconvert_exporter": "python",
   "pygments_lexer": "ipython3",
   "version": "3.9.7"
  }
 },
 "nbformat": 4,
 "nbformat_minor": 5
}
